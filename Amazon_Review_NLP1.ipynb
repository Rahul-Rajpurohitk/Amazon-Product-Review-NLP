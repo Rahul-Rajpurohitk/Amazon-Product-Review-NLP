{
 "cells": [
  {
   "cell_type": "code",
   "execution_count": 1,
   "id": "554a64c3",
   "metadata": {
    "colab": {
     "base_uri": "https://localhost:8080/"
    },
    "id": "554a64c3",
    "outputId": "cbd0c5bb-e87a-41e7-9324-7dbb7d6773f2"
   },
   "outputs": [
    {
     "name": "stderr",
     "output_type": "stream",
     "text": [
      "[nltk_data] Downloading package punkt to /root/nltk_data...\n",
      "[nltk_data]   Package punkt is already up-to-date!\n",
      "[nltk_data] Downloading package stopwords to /root/nltk_data...\n",
      "[nltk_data]   Package stopwords is already up-to-date!\n"
     ]
    }
   ],
   "source": [
    "import nltk\n",
    "nltk.download('punkt')\n",
    "nltk.download('stopwords')\n",
    "from nltk.corpus import stopwords\n",
    "import string"
   ]
  },
  {
   "cell_type": "code",
   "execution_count": 2,
   "id": "hfOMzGBaXTVT",
   "metadata": {
    "colab": {
     "base_uri": "https://localhost:8080/"
    },
    "id": "hfOMzGBaXTVT",
    "outputId": "8f5b1e38-7665-4c62-ea95-72a817d1c37b"
   },
   "outputs": [
    {
     "name": "stdout",
     "output_type": "stream",
     "text": [
      "Total number of words in NLTK's words corpus: 236736\n"
     ]
    },
    {
     "name": "stderr",
     "output_type": "stream",
     "text": [
      "[nltk_data] Downloading package words to /root/nltk_data...\n",
      "[nltk_data]   Package words is already up-to-date!\n"
     ]
    }
   ],
   "source": [
    "import nltk\n",
    "from nltk.corpus import words\n",
    "\n",
    "# Download the NLTK words dataset if not already downloaded\n",
    "nltk.download('words')\n",
    "\n",
    "# Get the list of words from NLTK's words corpus\n",
    "word_list = words.words()\n",
    "\n",
    "# Calculate the total number of words\n",
    "total_words = len(word_list)\n",
    "\n",
    "print(\"Total number of words in NLTK's words corpus:\", total_words)\n"
   ]
  },
  {
   "cell_type": "code",
   "execution_count": 3,
   "id": "cd593b9e",
   "metadata": {
    "id": "cd593b9e"
   },
   "outputs": [],
   "source": [
    "import pandas as pd\n",
    "import numpy as np\n",
    "from sklearn.model_selection import train_test_split\n",
    "from sklearn.utils import shuffle\n",
    "from sklearn.model_selection import train_test_split\n",
    "import re\n"
   ]
  },
  {
   "cell_type": "code",
   "execution_count": 4,
   "id": "8e2fae23",
   "metadata": {
    "id": "8e2fae23"
   },
   "outputs": [],
   "source": [
    "# Load the dataset\n",
    "df = pd.read_csv('/content/amazon_reviews.csv')  # Replace 'your_dataset.csv' with the actual dataset file path\n",
    "\n",
    "df['reviewText'] = df['reviewText'].astype(str)"
   ]
  },
  {
   "cell_type": "markdown",
   "id": "ca4766d5",
   "metadata": {
    "id": "ca4766d5"
   },
   "source": [
    "# Testing the preprocess function."
   ]
  },
  {
   "cell_type": "code",
   "execution_count": 5,
   "id": "e8b60ddf",
   "metadata": {
    "id": "e8b60ddf"
   },
   "outputs": [],
   "source": [
    "\n",
    "\n",
    "def preprocess_text(text):\n",
    "    # Convert to lowercase\n",
    "    text = text.lower()\n",
    "    # Remove punctuation and digits while preserving spaces\n",
    "    text = ''.join([char if char not in string.punctuation and not char.isdigit() else ' ' for char in text])\n",
    "    # Tokenize the text using a regular expression to capture words\n",
    "    #tokens = re.findall(r'\\b\\w+\\b', text)\n",
    "    tokens = nltk.word_tokenize(text)\n",
    "    # Remove stopwords\n",
    "\n",
    "    tokens = [word for word in tokens if word not in stopwords.words('english')]\n",
    "    #Keep the words that are actually english words and remove the noisy words like \"aac\"\n",
    "    tokens = [word for word in tokens if word in word_list]\n",
    "    return ' '.join(tokens)\n",
    "\n",
    "# Apply text preprocessing to the 'review' column\n",
    "df['reviewText'] = df['reviewText'].apply(preprocess_text)"
   ]
  },
  {
   "cell_type": "markdown",
   "id": "f0d95588",
   "metadata": {
    "id": "f0d95588"
   },
   "source": [
    "2. Representation of Texts: word vectors (40 points)"
   ]
  },
  {
   "cell_type": "markdown",
   "id": "e5aa9b01",
   "metadata": {
    "id": "e5aa9b01"
   },
   "source": [
    "1) Count-based word vectors with co-occurrence matrix"
   ]
  },
  {
   "cell_type": "code",
   "execution_count": 6,
   "id": "88d5ded1",
   "metadata": {
    "id": "88d5ded1"
   },
   "outputs": [],
   "source": [
    "def get_vocab(corpus):\n",
    "    # Create a list of words from the tokenized corpus\n",
    "    #all_words = [word for review in corpus for word in review.split()]\n",
    "    all_words = [word for review in corpus for word in review.split() if word.strip()]\n",
    "    # Get distinct words by converting the list to a set (removes duplicates) and then back to a sorted list\n",
    "    corpus_words = sorted(list(set(all_words)))\n",
    "\n",
    "    return corpus_words\n"
   ]
  },
  {
   "cell_type": "code",
   "execution_count": 7,
   "id": "7b714d13",
   "metadata": {
    "colab": {
     "base_uri": "https://localhost:8080/"
    },
    "id": "7b714d13",
    "outputId": "ed5a8338-f507-4454-9911-f81bc69c6cc9"
   },
   "outputs": [
    {
     "name": "stdout",
     "output_type": "stream",
     "text": [
      "Vocabulary (first 20 words): ['ability', 'able', 'abroad', 'abruptly', 'absolute', 'absolutely', 'abuse', 'abysmal', 'accept', 'acceptable', 'acceptably', 'accepted', 'access', 'accessible', 'accessory', 'accident', 'accidentally', 'accidently', 'accommodate', 'accomplish', 'accord', 'according', 'accordingly', 'account', 'accurate', 'ace', 'achieve', 'acknowledge', 'acknowledged', 'acquire', 'acquired', 'across', 'act', 'acting', 'action', 'active', 'activity', 'actual', 'actuality', 'actually', 'ad', 'adapt', 'adapter', 'adaptor', 'add', 'added', 'addenda', 'addition', 'additional', 'additionally', 'address', 'adequate', 'adequately', 'adjust', 'admiral', 'admit', 'admitted', 'admittedly', 'adopter', 'adult', 'advance', 'advanced', 'advancing', 'advantage', 'adventure', 'advertise', 'advertisement', 'advertising', 'advice', 'advise', 'advised', 'aerobic', 'affect', 'affected', 'affecting', 'afford', 'affordable', 'afraid', 'aft', 'afternoon', 'afterward', 'afterwards', 'age', 'agent', 'aging', 'ago', 'agree', 'agreed', 'ah', 'ahead', 'air', 'airplane', 'airport', 'al', 'alas', 'albeit', 'album', 'alec', 'alert', 'alien', 'alike', 'allegedly', 'allocation', 'allot', 'allow', 'almost', 'alone', 'along', 'already', 'alright', 'also', 'alt', 'alternately', 'alternative', 'although', 'altogether', 'aluminum', 'alway', 'always', 'amazed', 'amazement', 'amazing', 'amazingly', 'among', 'amount', 'ample', 'ana', 'android', 'anecdotal', 'angle', 'angry', 'anime', 'anker', 'anniversary', 'announcement', 'annoyance', 'annoying', 'anomaly', 'another', 'answer', 'anti', 'anticipation', 'antivirus', 'anybody', 'anyhow', 'anyone', 'anything', 'anyway', 'anyways', 'anywhere', 'apart', 'apartment', 'apex', 'aplomb', 'apparent', 'apparently', 'appealing', 'appear', 'appearance', 'appendage', 'apple', 'appliance', 'applicable', 'application', 'applied', 'apply', 'appreciate', 'appreciative', 'apprehensive', 'approaching', 'appropriate', 'approval', 'approve', 'approximately', 'ar', 'arc', 'architecture', 'archive', 'arduous', 'area', 'arent', 'argue', 'arise', 'arm', 'armed', 'arose', 'around', 'arrival', 'arrive', 'art', 'arthritis', 'article', 'aside', 'ask', 'asleep', 'aspect', 'asphalt', 'aspire', 'ass', 'assembly', 'assess', 'assessment', 'asset', 'assign', 'assist', 'association', 'assorted', 'assortment', 'assume', 'assumed', 'assuming', 'assurance', 'assure', 'assured', 'assuringly', 'astonishingly', 'atlantic', 'atop', 'atrocious', 'attached', 'attachment', 'attain', 'attempt', 'attention', 'attest', 'attractive', 'attribute', 'auction', 'audible', 'audio', 'augmentation', 'august', 'authentic', 'authenticate', 'authenticity', 'authorized', 'auto', 'automatic', 'automatically', 'automotive', 'avail', 'availability', 'available', 'average', 'avoid', 'await', 'aware', 'away', 'awe', 'awesome', 'awesomely', 'awful', 'awhile', 'awry', 'ax', 'axiom', 'b', 'baby', 'back', 'backed', 'background', 'backing', 'backside', 'backup', 'backward', 'backwards', 'bad', 'badly', 'bag', 'balance', 'ball', 'bam', 'band', 'bang', 'banking', 'banner', 'bar', 'bare', 'barely', 'bargain', 'barn', 'base', 'based', 'basement', 'basic', 'basically', 'basis', 'basketball', 'bass', 'bast', 'basta', 'bat', 'batch', 'battery', 'bay', 'beagle', 'bean', 'bear', 'bearing', 'beast', 'beat', 'beatable', 'beating', 'beautiful', 'beautifully', 'beauty', 'become', 'becomes', 'becoming', 'bed', 'beef', 'beefy', 'bees', 'beforehand', 'beg', 'begin', 'beginning', 'begun', 'behave', 'behavior', 'behavioral', 'behind', 'behold', 'believe', 'believer', 'beloved', 'bench', 'bend', 'bene', 'benefit', 'beside', 'besides', 'best', 'bet', 'better', 'beware', 'beyond', 'bid', 'bien', 'big', 'bigger', 'biggest', 'bike', 'bill', 'billing', 'billion', 'bin', 'binary', 'bingo', 'birthday', 'bit', 'bitty', 'black', 'blackberry', 'blade', 'blah', 'blame', 'blamed', 'blank', 'blaze', 'blazing', 'bleeding', 'blend', 'blink', 'blinked', 'blinks', 'blip', 'bliss', 'blissful', 'blister', 'bloated', 'block', 'blocked', 'blocking', 'blocky', 'blow', 'blowing', 'blown', 'blue', 'board', 'boat', 'bob', 'body', 'bogus', 'bomb', 'bone', 'bonus', 'book', 'booklet', 'bookshelf', 'boost', 'boot', 'booted', 'booting', 'bootleg', 'boots', 'boredom', 'boring', 'born', 'bother', 'bottle', 'bottleneck', 'bottom', 'bough', 'bought', 'bounce', 'bouncing', 'boundary', 'bout', 'box', 'boy', 'brag', 'brain', 'brainer', 'bran', 'brand', 'branded', 'bravo', 'bread', 'break', 'breakdown', 'breaker', 'breaking', 'breathe', 'breathing', 'breed', 'breeze', 'brew', 'brick', 'bridge', 'brief', 'briefly', 'bright', 'brilliant', 'brilliantly', 'bring', 'brisk', 'brittle', 'broke', 'broken', 'brother', 'brought', 'brown', 'browse', 'browser', 'browsing', 'brutally', 'buck', 'budget', 'buff', 'buffer', 'bug', 'bugger', 'buggy', 'build', 'building', 'built', 'bulk', 'bullet', 'bum', 'bummed', 'bummer', 'bump', 'bunch', 'bundle', 'bunk', 'bur', 'burn', 'burned', 'burner', 'burning', 'burst', 'bus', 'business', 'bust', 'busted', 'busy', 'butt', 'butter', 'button', 'buy', 'buyer', 'bye', 'bypass', 'c', 'ca', 'cable', 'cache', 'calculated', 'calculating', 'call', 'calling', 'cam', 'came', 'camel', 'camera', 'camper', 'canada', 'cancel', 'cancer', 'cannon', 'canon', 'cant', 'cap', 'capability', 'capable', 'capacitive', 'capacity', 'capitalism', 'capping', 'captain', 'captivate', 'capture', 'car', 'caracter', 'card', 'cardboard', 'care', 'career', 'careful', 'carefully', 'carried', 'carrier', 'carry', 'carrying', 'cart', 'cartoon', 'case', 'cash', 'casual', 'cat', 'catastrophe', 'catastrophic', 'catch', 'catching', 'category', 'caught', 'cause', 'causing', 'caution', 'cautiously', 'cave', 'caveat', 'cease', 'cell', 'cellular', 'cent', 'center', 'centered', 'central', 'certain', 'certainly', 'certainty', 'certified', 'certify', 'chain', 'challenge', 'champ', 'chance', 'change', 'chant', 'charge', 'charger', 'charging', 'charm', 'chart', 'chat', 'cheap', 'cheaping', 'cheaply', 'check', 'checked', 'cheep', 'cheeper', 'cheesy', 'chew', 'child', 'chilling', 'china', 'chip', 'chips', 'chirping', 'choice', 'choke', 'choose', 'choosing', 'chopped', 'choppy', 'chose', 'chosen', 'chunk', 'circumstance', 'cite', 'claim', 'clamshell', 'clarify', 'class', 'classes', 'classic', 'classification', 'classified', 'clean', 'cleaning', 'clear', 'clearly', 'click', 'clicker', 'client', 'cliff', 'clip', 'clipping', 'clips', 'clock', 'clocked', 'clockwork', 'clog', 'close', 'closer', 'cloth', 'cloud', 'clout', 'clue', 'cluster', 'coast', 'cobra', 'cocaine', 'code', 'coffee', 'cold', 'collection', 'color', 'coloring', 'colors', 'column', 'combination', 'combine', 'combined', 'come', 'comedy', 'comes', 'comfort', 'comfortable', 'comforting', 'comic', 'coming', 'command', 'commando', 'commend', 'comment', 'commenter', 'commercial', 'commercially', 'commit', 'commodity', 'common', 'commonplace', 'communicate', 'communication', 'compact', 'company', 'comparable', 'comparably', 'comparatively', 'compare', 'comparison', 'compatibility', 'compatible', 'compel', 'compensate', 'competition', 'competitive', 'competitor', 'compile', 'complain', 'complaint', 'complete', 'completely', 'complex', 'complexity', 'compliance', 'compliant', 'comprehensive', 'compressed', 'compromise', 'computation', 'computer', 'con', 'concept', 'concern', 'concerned', 'concert', 'conclusion', 'concrete', 'condense', 'condenser', 'condition', 'conduct', 'confidence', 'confident', 'configuration', 'confirm', 'confirmed', 'conflict', 'conflicting', 'confuse', 'confused', 'confusion', 'congressman', 'conjunction', 'connect', 'connected', 'connection', 'connectivity', 'connector', 'consecutive', 'conservative', 'consider', 'considerable', 'considerably', 'consideration', 'considered', 'considering', 'consistency', 'consistent', 'consistently', 'console', 'consolidate', 'consolidated', 'constant', 'constantly', 'constraint', 'construction', 'consume', 'consumer', 'consuming', 'contact', 'contain', 'container', 'content', 'contentious', 'contents', 'continually', 'continue', 'continued', 'continuity', 'continuous', 'continuously', 'contour', 'contract', 'contrast', 'control', 'controller', 'controversy', 'convenience', 'convenient', 'conveniently', 'conventional', 'conversation', 'conversion', 'convert', 'converted', 'converter', 'convertible', 'convince', 'convinced', 'cool', 'copied', 'copious', 'copter', 'copy', 'cord', 'core', 'corner', 'corporation', 'correct', 'corrected', 'correctly', 'corresponding', 'corrupt', 'corrupted', 'corrupting', 'corruption', 'cost', 'costly', 'costumer', 'could', 'count', 'counter', 'counterfeit', 'counterpart', 'counting', 'countless', 'country', 'couple', 'course', 'cover', 'covered', 'covering', 'crack', 'cracked', 'cradle', 'cram', 'cranked', 'crap', 'crapple', 'craps', 'crash', 'crazy', 'cream', 'create', 'credit', 'creepy', 'crime', 'crisp', 'crispy', 'criteria', 'critical', 'critically', 'crooked', 'cross', 'crossed', 'crossing', 'crowded', 'crucial', 'cruise', 'cry', 'crystal', 'culprit', 'cup', 'cure', 'curiosity', 'curious', 'current', 'currently', 'curve', 'custom', 'customer', 'cut', 'cute', 'cutter', 'cutting', 'cwm', 'cyanogen', 'cycle', 'cyclic', 'da', 'dab', 'dad', 'daily', 'damage', 'damn', 'damned', 'dang', 'dangerous', 'dangerously', 'dare', 'dark', 'darn', 'darned', 'dash', 'dashboard', 'data', 'date', 'daughter', 'day', 'days', 'daze', 'de', 'dead', 'deal', 'dealership', 'dealing', 'dealt', 'dear', 'death', 'deb', 'debating', 'decade', 'decay', 'deceive', 'decent', 'decently', 'deception', 'decide', 'decided', 'decision', 'decrease', 'deduct', 'deep', 'deeply', 'default', 'defect', 'defective', 'defined', 'definite', 'definitely', 'definition', 'definitive', 'deftly', 'defy', 'degradation', 'degrade', 'degree', 'delay', 'delete', 'deliberately', 'delightful', 'deliver', 'delivery', 'dell', 'demand', 'demanding', 'demented', 'demon', 'demonstrate', 'density', 'dent', 'department', 'dependable', 'dependent', 'depending', 'deposit', 'depressed', 'depth', 'describe', 'description', 'deserved', 'design', 'designation', 'designed', 'desire', 'desired', 'desk', 'desperate', 'desperately', 'despite', 'destination', 'destroy', 'detail', 'detailed', 'detect', 'detection', 'determine', 'determined', 'determiner', 'detraction', 'dev', 'developer', 'development', 'device', 'devise', 'dew', 'di', 'diagnostics', 'diamond', 'dice', 'didnt', 'die', 'diet', 'difference', 'different', 'differentiation', 'differently', 'difficult', 'difficulty', 'dig', 'digging', 'digital', 'digitally', 'diligence', 'diligently', 'dime', 'dip', 'direct', 'directed', 'direction', 'directly', 'directory', 'dirt', 'dirty', 'disable', 'disagree', 'disappear', 'disappearing', 'disappoint', 'disappointed', 'disappointing', 'disappointingly', 'disappointment', 'disc', 'discern', 'disclaimer', 'disclosure', 'disconnect', 'disconnected', 'discount', 'discourage', 'discover', 'discovered', 'discussion', 'disguise', 'dish', 'disk', 'dismal', 'dismount', 'display', 'displayed', 'displeased', 'displeasure', 'disposal', 'disqualify', 'dissatisfied', 'dissected', 'distance', 'distributed', 'distributor', 'district', 'disturbing', 'dit', 'dive', 'divided', 'doc', 'dock', 'doctor', 'document', 'documentation', 'dod', 'doesnt', 'dog', 'dollar', 'done', 'dont', 'door', 'dory', 'dos', 'dose', 'double', 'doubled', 'doubling', 'doubt', 'doubtless', 'downgrade', 'downhill', 'downside', 'dozen', 'drag', 'dragged', 'drain', 'dram', 'drama', 'dramatically', 'drank', 'draw', 'drawback', 'drawer', 'dream', 'dried', 'drift', 'dripping', 'drive', 'driven', 'driver', 'driveway', 'driving', 'drop', 'dropping', 'drum', 'dry', 'dual', 'dud', 'dude', 'due', 'duly', 'dumb', 'dummy', 'dump', 'dumping', 'dunk', 'duo', 'durability', 'durable', 'duration', 'dust', 'duty', 'dying', 'e', 'ea', 'earful', 'early', 'earth', 'ease', 'easer', 'easier', 'easiest', 'easily', 'east', 'easy', 'eat', 'eating', 'eats', 'echo', 'economical', 'economically', 'edge', 'edit', 'edition', 'eerie', 'effective', 'effectively', 'effects', 'efficient', 'effort', 'effortlessly', 'ego', 'eh', 'either', 'eject', 'ejection', 'el', 'electret', 'electric', 'electrical', 'electrify', 'electronic', 'electronics', 'element', 'eleven', 'eligibility', 'eligible', 'eliminate', 'elite', 'else', 'elsewhere', 'em', 'embarrassed', 'emergency', 'emotion', 'employee', 'empty', 'en', 'enable', 'enclosure', 'encounter', 'encrypt', 'encryption', 'end', 'ended', 'endemic', 'endless', 'endorsed', 'endorsement', 'enhanced', 'enjoy', 'enjoyable', 'enjoying', 'enlarged', 'enlighten', 'enormous', 'enough', 'ensure', 'entering', 'enterprise', 'entertainment', 'enthusiast', 'entire', 'entirely', 'entirety', 'entrust', 'envelop', 'envelope', 'environment', 'environmentally', 'envy', 'epic', 'epidemic', 'episode', 'equal', 'equaling', 'equally', 'equip', 'equipment', 'equivalent', 'er', 'era', 'erase', 'erased', 'erratic', 'erratically', 'error', 'es', 'especially', 'essay', 'essential', 'essentially', 'estate', 'estimate', 'eternal', 'eureka', 'evaluate', 'evaluation', 'even', 'evening', 'event', 'eventually', 'ever', 'every', 'everybody', 'everyday', 'everyone', 'everything', 'everywhere', 'evident', 'evidently', 'evil', 'evolve', 'ex', 'exact', 'exactly', 'exaggerated', 'exaggeration', 'example', 'excellence', 'excellent', 'excellently', 'except', 'exception', 'exceptional', 'excess', 'excessive', 'excessively', 'exchange', 'excite', 'excited', 'exciting', 'exclusively', 'excuse', 'execute', 'exercise', 'exhausted', 'exhibit', 'exist', 'existence', 'existent', 'expand', 'expanded', 'expanding', 'expansion', 'expect', 'expectation', 'expend', 'expense', 'expensive', 'experience', 'experienced', 'experiment', 'experimental', 'experimented', 'expert', 'explain', 'explaining', 'explanation', 'explanatory', 'explicit', 'explicitly', 'explorer', 'export', 'exposed', 'express', 'extend', 'extended', 'extending', 'extension', 'extensive', 'extensively', 'external', 'extra', 'extract', 'extreme', 'extremely', 'eye', 'f', 'fabric', 'face', 'faced', 'facilitate', 'facing', 'fact', 'factor', 'factory', 'faculty', 'fade', 'fail', 'failing', 'failure', 'fair', 'fairly', 'fairness', 'faith', 'faithfully', 'fake', 'fall', 'fallen', 'falling', 'false', 'falsely', 'familiar', 'family', 'famous', 'fan', 'fancier', 'fancy', 'fantastic', 'fantastically', 'far', 'farther', 'fascinating', 'fashion', 'fast', 'faster', 'fat', 'father', 'fault', 'faulting', 'faultless', 'faulty', 'favor', 'favorable', 'favorite', 'fear', 'feature', 'fee', 'feed', 'feedback', 'feeding', 'feel', 'feeling', 'fell', 'fellow', 'felt', 'fence', 'fi', 'fiance', 'fiction', 'fiddle', 'fiddling', 'field', 'fifteen', 'fifty', 'fighting', 'figure', 'figured', 'file', 'filing', 'fill', 'filled', 'filler', 'filling', 'film', 'filter', 'fin', 'final', 'finally', 'find', 'finder', 'finding', 'fine', 'finger', 'fingernail', 'finish', 'finished', 'fir', 'fire', 'firmly', 'first', 'firstly', 'fisher', 'fishing', 'fishy', 'fit', 'fitted', 'fitting', 'five', 'fix', 'fixed', 'fixing', 'flagship', 'flair', 'flaky', 'flash', 'flashlight', 'flat', 'flaw', 'flawed', 'flawless', 'flawlessly', 'flexibility', 'flexible', 'flight', 'flimsy', 'flip', 'flood', 'floor', 'floppy', 'flow', 'fluctuate', 'fluid', 'fluke', 'flush', 'fly', 'flying', 'fold', 'folder', 'follow', 'following', 'food', 'fool', 'foot', 'footage', 'footprint', 'foray', 'forbid', 'force', 'forced', 'forcing', 'fore', 'foremost', 'foresee', 'foreseeable', 'forever', 'forget', 'forgetting', 'forgive', 'forgo', 'forgot', 'forgotten', 'form', 'formal', 'format', 'forth', 'fortunately', 'forum', 'forward', 'forwarding', 'fosse', 'found', 'four', 'fourth', 'fraction', 'fragile', 'frame', 'frank', 'frankly', 'freak', 'free', 'freed', 'freeing', 'freeze', 'freezing', 'frequency', 'frequent', 'frequently', 'fresh', 'friction', 'fried', 'friend', 'friendliness', 'friendly', 'fro', 'front', 'frontal', 'froze', 'frozen', 'frustrate', 'frustration', 'fudge', 'fuji', 'fulfillment', 'full', 'fully', 'fun', 'function', 'functional', 'functionality', 'fungible', 'funky', 'funny', 'furious', 'furniture', 'fury', 'fuss', 'fussy', 'future', 'futuristic', 'fuze', 'fuzzy', 'g', 'gadget', 'gain', 'gaining', 'gal', 'galaxy', 'gallery', 'galley', 'gamble', 'gambling', 'game', 'gaming', 'gap', 'garbage', 'gate', 'gauge', 'gauging', 'gave', 'gear', 'gearing', 'geat', 'geek', 'gem', 'gen', 'general', 'generally', 'generation', 'generic', 'generous', 'genius', 'gently', 'genuine', 'genuinely', 'gerbil', 'gesture', 'get', 'getting', 'ghost', 'giant', 'gib', 'gift', 'gig', 'gigantic', 'gin', 'gingerbread', 'git', 'give', 'given', 'giving', 'glad', 'gladly', 'glass', 'glasses', 'glide', 'glorify', 'glowing', 'glue', 'glued', 'go', 'goal', 'god', 'goes', 'goggled', 'goi', 'going', 'gold', 'golden', 'gon', 'gone', 'good', 'goodly', 'goodness', 'gosh', 'got', 'gotten', 'grab', 'grace', 'gracious', 'graciously', 'grade', 'grand', 'granddaughter', 'grandson', 'graphic', 'graphical', 'grass', 'grat', 'grateful', 'gratification', 'gray', 'great', 'greater', 'greatly', 'greed', 'greedy', 'green', 'greener', 'grew', 'grey', 'grief', 'gripe', 'ground', 'grout', 'grow', 'growing', 'grown', 'guarantee', 'guess', 'guessing', 'guide', 'guilty', 'guru', 'gut', 'guy', 'gym', 'h', 'ha', 'habit', 'hack', 'hair', 'half', 'halo', 'halt', 'hand', 'handful', 'handle', 'handled', 'handling', 'handy', 'hanging', 'happen', 'happening', 'happier', 'happily', 'happy', 'hard', 'harder', 'hardly', 'hardware', 'harm', 'harmoniously', 'hassle', 'hasta', 'hat', 'hate', 'havent', 'head', 'headache', 'headline', 'headphone', 'headset', 'heap', 'hear', 'heart', 'heartbeat', 'heartily', 'hearts', 'heat', 'heating', 'heavily', 'heavy', 'heck', 'heed', 'hefty', 'hell', 'hello', 'helmet', 'help', 'helpful', 'helpfully', 'helping', 'hence', 'hero', 'hesitant', 'hesitate', 'hesitation', 'hey', 'hi', 'hiccup', 'hick', 'hidden', 'hide', 'high', 'higher', 'highest', 'highly', 'highway', 'hinder', 'hint', 'history', 'hit', 'hitch', 'hoarder', 'hog', 'hokey', 'hold', 'holder', 'holding', 'hole', 'holiday', 'home', 'homemade', 'homework', 'honest', 'honestly', 'hook', 'hooked', 'hoop', 'hope', 'hoped', 'hopeful', 'hopefully', 'hopelessly', 'hopped', 'horrible', 'horribly', 'horrific', 'horror', 'horse', 'host', 'hosting', 'hot', 'hotter', 'hour', 'house', 'housekeeping', 'housing', 'however', 'hub', 'hubby', 'huge', 'hugely', 'hulk', 'humidity', 'hummer', 'humming', 'hundred', 'hunky', 'hunting', 'hurry', 'hurt', 'hurting', 'husband', 'hybrid', 'ice', 'icon', 'id', 'idea', 'ideal', 'ideally', 'identical', 'identify', 'identity', 'idiot', 'idiotic', 'ie', 'iffy', 'ignorance', 'ignore', 'ill', 'image', 'imagine', 'imitation', 'immediate', 'immediately', 'immense', 'import', 'important', 'importantly', 'importer', 'impossible', 'impress', 'impression', 'impressive', 'improper', 'improve', 'improvement', 'improving', 'inability', 'inaccessible', 'inaccurate', 'inadequate', 'inadvertently', 'inappropriate', 'incapable', 'incase', 'incentive', 'inch', 'incident', 'include', 'included', 'incompatibility', 'incompatible', 'inconsistent', 'inconvenience', 'inconvenient', 'incorrect', 'incorrectly', 'increase', 'increasing', 'incredible', 'incredibly', 'increment', 'indeed', 'index', 'indexed', 'indicate', 'indication', 'indirectly', 'indistinguishable', 'individual', 'industry', 'inevitable', 'inevitably', 'inexcusable', 'inexpensive', 'inexpensively', 'inexplicably', 'inferior', 'infinity', 'inflated', 'inflation', 'inform', 'informal', 'information', 'informed', 'ing', 'inherent', 'initial', 'initialize', 'initially', 'ink', 'inland', 'innovation', 'input', 'insane', 'insert', 'inserted', 'insertion', 'inside', 'insist', 'inspire', 'inspiring', 'instability', 'install', 'installation', 'instance', 'instant', 'instantaneous', 'instantaneously', 'instantly', 'instead', 'instructed', 'instruction', 'instructional', 'insufficient', 'insurance', 'intact', 'integrity', 'intend', 'intended', 'intense', 'intensive', 'intensively', 'intent', 'intention', 'intentionally', 'interaction', 'interactive', 'interchange', 'interchangeable', 'interest', 'interested', 'interesting', 'interestingly', 'interface', 'intermediate', 'intermittent', 'intermittently', 'internal', 'internally', 'internals', 'international', 'internationally', 'interval', 'intrusion', 'invaluable', 'invention', 'inventory', 'invest', 'investigate', 'investigation', 'investment', 'invisible', 'invoice', 'involve', 'involved', 'io', 'ion', 'irreplaceable', 'irresistible', 'island', 'isolated', 'isolating', 'issue', 'issuing', 'item', 'j', 'jar', 'jelly', 'jeopardize', 'jerk', 'jerky', 'jerry', 'jiggle', 'jinx', 'job', 'join', 'joke', 'joy', 'judge', 'judgment', 'jukebox', 'jumble', 'jump', 'june', 'junior', 'junk', 'justification', 'justify', 'juvenile', 'k', 'keep', 'keeping', 'kept', 'kernel', 'key', 'keyboard', 'kick', 'kicker', 'kicking', 'kill', 'killer', 'killing', 'kind', 'kindle', 'kit', 'kitchen', 'kitten', 'knew', 'knife', 'knitting', 'knock', 'knockoff', 'know', 'knowing', 'knowingly', 'knowledge', 'knowledgeable', 'known', 'kodak', 'kudos', 'l', 'la', 'lab', 'label', 'lack', 'ladies', 'lag', 'lagging', 'lamp', 'lan', 'land', 'landlord', 'lap', 'lapse', 'large', 'largely', 'last', 'lasting', 'lastly', 'latching', 'late', 'lately', 'latent', 'later', 'latest', 'latter', 'laughable', 'laughably', 'launch', 'launcher', 'law', 'lawn', 'lay', 'laying', 'layman', 'laziness', 'lazy', 'lead', 'leader', 'leading', 'leap', 'learn', 'learned', 'learning', 'least', 'leave', 'leaves', 'leaving', 'led', 'leery', 'left', 'leg', 'legacy', 'legend', 'legged', 'legit', 'legitimate', 'lemon', 'length', 'lengthy', 'lens', 'less', 'lesser', 'lesson', 'let', 'level', 'lever', 'leverage', 'library', 'lie', 'lieu', 'life', 'lifetime', 'light', 'lighter', 'lighting', 'lightning', 'lightweight', 'like', 'likely', 'likewise', 'liking', 'limit', 'limitation', 'limited', 'limiting', 'limitless', 'line', 'linear', 'link', 'links', 'lip', 'liquid', 'list', 'listed', 'listen', 'listener', 'listening', 'listing', 'literally', 'literature', 'little', 'live', 'lived', 'living', 'lo', 'load', 'loaded', 'loading', 'local', 'locally', 'locate', 'location', 'lock', 'locked', 'locking', 'logged', 'logging', 'logically', 'long', 'longer', 'longevity', 'longing', 'look', 'looking', 'looney', 'loop', 'looping', 'loose', 'loosing', 'lose', 'loser', 'losing', 'loss', 'lossless', 'lost', 'lot', 'lots', 'lousy', 'love', 'lovely', 'lover', 'loving', 'low', 'lower', 'lowering', 'luck', 'luckily', 'lucky', 'lucrative', 'luggage', 'luxury', 'lying', 'lynx', 'mac', 'machine', 'macro', 'mad', 'made', 'magic', 'magically', 'magnet', 'maiden', 'mail', 'mailbox', 'mailed', 'main', 'mainly', 'maintenance', 'major', 'majority', 'make', 'making', 'mal', 'maleness', 'malfunction', 'man', 'manage', 'management', 'manager', 'manga', 'mani', 'manipulate', 'manner', 'manual', 'manually', 'manufacture', 'manufacturer', 'many', 'map', 'march', 'marginal', 'mark', 'marked', 'marker', 'market', 'marketing', 'marking', 'marquee', 'marry', 'mart', 'marvel', 'marvelous', 'mas', 'mass', 'massive', 'master', 'match', 'matching', 'material', 'matter', 'maximize', 'maximum', 'may', 'maybe', 'meager', 'mean', 'meaning', 'meant', 'meanwhile', 'measure', 'measured', 'measuring', 'meaty', 'mechanical', 'mechanically', 'media', 'mediocre', 'medium', 'meet', 'meeting', 'melted', 'melting', 'mem', 'member', 'membership', 'memo', 'memoria', 'memory', 'mention', 'menu', 'mere', 'merely', 'merrily', 'merry', 'mess', 'message', 'messing', 'met', 'metal', 'metallic', 'method', 'metric', 'mi', 'micro', 'microphone', 'mid', 'middle', 'midland', 'might', 'mighty', 'migrate', 'mile', 'mileage', 'million', 'millions', 'millisecond', 'min', 'mind', 'minded', 'mindless', 'mine', 'minimal', 'minimize', 'minimum', 'minor', 'minus', 'minute', 'miser', 'misleading', 'misplace', 'miss', 'missing', 'mission', 'misstate', 'mistake', 'mistaken', 'mistakenly', 'misuse', 'mix', 'mixed', 'mo', 'mobile', 'moble', 'mode', 'model', 'moderate', 'modern', 'modest', 'modify', 'module', 'moist', 'moment', 'momentary', 'money', 'monitor', 'monster', 'montana', 'month', 'mood', 'moot', 'moreover', 'morgan', 'morning', 'morrow', 'mortar', 'mostly', 'mother', 'motion', 'motivation', 'mount', 'mounted', 'mounting', 'move', 'movement', 'movie', 'moving', 'mowing', 'mu', 'much', 'multiple', 'mush', 'music', 'muss', 'must', 'mysterious', 'mysteriously', 'n', 'na', 'nail', 'name', 'naming', 'nan', 'nasty', 'native', 'natively', 'naturally', 'nature', 'near', 'nearly', 'neat', 'neatly', 'necessarily', 'necessary', 'necessity', 'necked', 'need', 'needing', 'needle', 'needless', 'needlessly', 'needs', 'needy', 'negative', 'negligible', 'neither', 'nephew', 'net', 'network', 'neutral', 'never', 'nevertheless', 'new', 'newly', 'news', 'next', 'nexus', 'nice', 'nicely', 'nick', 'niece', 'nifty', 'night', 'nightly', 'nine', 'nit', 'noble', 'nobody', 'nock', 'noise', 'nominally', 'non', 'none', 'nonetheless', 'nonexistent', 'nonfunctional', 'nonsense', 'nonvolatile', 'nook', 'nope', 'norm', 'normal', 'normally', 'north', 'nose', 'notable', 'notch', 'note', 'notebook', 'noted', 'nothing', 'notice', 'noticeable', 'noticeably', 'notification', 'notify', 'notorious', 'nova', 'novice', 'nowadays', 'nowhere', 'nth', 'nuisance', 'number', 'numerical', 'numero', 'numerous', 'nylon', 'observable', 'obsolete', 'obvious', 'obviously', 'occasional', 'occasionally', 'occur', 'od', 'odd', 'oddity', 'oddly', 'odds', 'offer', 'offering', 'office', 'official', 'officially', 'offset', 'often', 'oh', 'old', 'older', 'om', 'one', 'onion', 'onto', 'oodles', 'open', 'opener', 'opening', 'operate', 'operating', 'operation', 'operator', 'opinion', 'opportunity', 'oppose', 'opposed', 'opt', 'optimal', 'optimistic', 'optimization', 'optimum', 'option', 'optional', 'orange', 'order', 'ordered', 'ordinary', 'organize', 'orient', 'origin', 'original', 'originally', 'ornament', 'os', 'oscillating', 'otherwise', 'ouch', 'ought', 'ounce', 'outcome', 'outdoor', 'outer', 'outfit', 'outlast', 'outlay', 'outlet', 'outmoded', 'output', 'outrageous', 'outside', 'outstanding', 'overall', 'overflow', 'overhead', 'overnight', 'overrate', 'oversaturate', 'overtime', 'overuse', 'overwhelming', 'overwhelmingly', 'owner', 'ownership', 'p', 'pace', 'pack', 'package', 'packet', 'pad', 'page', 'pain', 'painful', 'painfully', 'painless', 'painstaking', 'paint', 'painted', 'pair', 'paired', 'pal', 'palm', 'pan', 'panic', 'panorama', 'panther', 'paper', 'paperweight', 'par', 'para', 'paragon', 'parallel', 'paranoid', 'parcel', 'parent', 'parentally', 'park', 'part', 'particular', 'particularly', 'partition', 'partitioned', 'partitioning', 'partner', 'party', 'pass', 'password', 'past', 'paste', 'patch', 'patience', 'patient', 'patiently', 'patriot', 'pattern', 'pause', 'pay', 'payed', 'paying', 'peace', 'peak', 'peaking', 'pebble', 'peeve', 'peeved', 'pen', 'penalty', 'penciled', 'pending', 'penny', 'people', 'peppy', 'per', 'percent', 'percentage', 'perceptible', 'perfect', 'perfected', 'perfection', 'perfectly', 'perform', 'performance', 'performer', 'perhaps', 'period', 'periodically', 'peripheral', 'permanent', 'permanently', 'permit', 'permitted', 'person', 'personal', 'personally', 'personnel', 'pert', 'pet', 'phantom', 'phenomenal', 'phenomenon', 'phone', 'phony', 'photo', 'photograph', 'photographer', 'photographic', 'photography', 'photon', 'phrase', 'physical', 'physically', 'pi', 'pic', 'pice', 'pick', 'picked', 'pickup', 'picky', 'pico', 'picture', 'pictured', 'pidgin', 'piece', 'piling', 'pilot', 'pinch', 'pinched', 'pined', 'pinky', 'pioneer', 'piping', 'pita', 'pittance', 'pix', 'place', 'plain', 'plan', 'plane', 'plaque', 'plastic', 'plate', 'platform', 'platic', 'play', 'playable', 'playback', 'player', 'pleasant', 'pleasantly', 'please', 'pleasurable', 'pleasure', 'plentiful', 'plenty', 'plethora', 'pliers', 'plug', 'plugged', 'plugging', 'plunge', 'plus', 'ply', 'po', 'pocket', 'point', 'pointed', 'pointing', 'policy', 'polish', 'pone', 'poor', 'poorly', 'pop', 'popular', 'populate', 'port', 'portability', 'portable', 'portal', 'portion', 'position', 'positive', 'possibility', 'possible', 'possibly', 'post', 'postage', 'posted', 'potential', 'potentially', 'pour', 'pout', 'power', 'powered', 'powerful', 'powerhouse', 'practical', 'practically', 'practice', 'praise', 'prance', 'precious', 'precise', 'precision', 'predecessor', 'predictably', 'prefer', 'preferably', 'preferred', 'preform', 'premature', 'prematurely', 'premier', 'premium', 'prep', 'preparation', 'prepare', 'prepared', 'present', 'presentation', 'presently', 'press', 'pressure', 'presto', 'presume', 'pretend', 'pretty', 'prevail', 'prevent', 'preview', 'previous', 'previously', 'price', 'priced', 'priceless', 'primarily', 'primary', 'prime', 'print', 'printed', 'printer', 'printing', 'prior', 'prism', 'private', 'pro', 'prob', 'probability', 'probably', 'probe', 'problem', 'problematic', 'procedure', 'process', 'processor', 'proclaim', 'procrastinate', 'proctologist', 'produce', 'produced', 'producer', 'product', 'production', 'professional', 'profile', 'profit', 'program', 'progress', 'prohibitive', 'project', 'prolific', 'promise', 'promotion', 'promotional', 'prompt', 'promptly', 'promptness', 'prone', 'proof', 'proofing', 'proper', 'properly', 'proprietary', 'props', 'protect', 'protection', 'protective', 'protocol', 'prove', 'proved', 'proven', 'provide', 'provided', 'provider', 'providing', 'pry', 'public', 'pull', 'pun', 'punch', 'punishment', 'puny', 'puppy', 'purchase', 'pure', 'purging', 'purpose', 'purposely', 'purse', 'pus', 'push', 'pushing', 'put', 'pyramid', 'q', 'quad', 'quadrant', 'qualify', 'quality', 'quarter', 'question', 'questionable', 'quick', 'quickly', 'quickness', 'quit', 'quite', 'quote', 'r', 'race', 'rack', 'radio', 'raid', 'rainy', 'raise', 'raised', 'ram', 'ran', 'random', 'randomly', 'range', 'ranged', 'ranging', 'rant', 'rapid', 'rare', 'rarely', 'raspberry', 'rate', 'rated', 'rather', 'rating', 'ratio', 'rave', 'raw', 'ray', 'razor', 'reach', 'read', 'readable', 'reader', 'readily', 'reading', 'ready', 'real', 'realistically', 'reality', 'realization', 'realize', 'realizing', 'really', 'realm', 'reason', 'reasonable', 'reasonably', 'reasoning', 'reassemble', 'recall', 'receipt', 'receive', 'received', 'recent', 'recently', 'reception', 'recognition', 'recognizable', 'recognize', 'recommand', 'recommend', 'recommendation', 'reconnect', 'reconsider', 'record', 'recorder', 'recording', 'recourse', 'recover', 'recoverable', 'recovery', 'recurrent', 'recycle', 'red', 'redirect', 'reduced', 'reducing', 'redundancy', 'redundant', 'ref', 'refer', 'reference', 'reflect', 'reflection', 'refresh', 'refund', 'refuse', 'refusing', 'reg', 'regard', 'regarding', 'regardless', 'region', 'regional', 'register', 'regressive', 'regret', 'regular', 'regularity', 'regularly', 'reinsert', 'reinstall', 'related', 'relative', 'relatively', 'relay', 'release', 'relevant', 'reliability', 'reliable', 'reliably', 'relief', 'relieved', 'relive', 'reluctant', 'rely', 'remain', 'remains', 'remap', 'remark', 'remarkable', 'remarkably', 'remember', 'remind', 'remote', 'remount', 'removable', 'removal', 'remove', 'removed', 'removing', 'rendering', 'rendition', 'rent', 'reorder', 'rep', 'repack', 'repair', 'repartition', 'repeat', 'repeated', 'repeatedly', 'replace', 'replaceable', 'replacement', 'replay', 'reply', 'report', 'reportedly', 'representation', 'representative', 'reps', 'republic', 'reputable', 'reputation', 'reputed', 'require', 'requirement', 'reschedule', 'rescue', 'research', 'reseat', 'reservation', 'reserve', 'reserved', 'reset', 'reside', 'resilient', 'resist', 'resistance', 'resistant', 'resize', 'resolution', 'resolve', 'resolved', 'resort', 'resource', 'respectable', 'respective', 'respectively', 'respond', 'response', 'responsibility', 'responsible', 'responsive', 'responsiveness', 'rest', 'restart', 'restore', 'result', 'resulting', 'resume', 'retail', 'retailer', 'retarded', 'retina', 'retrieval', 'retrieve', 'return', 'returned', 'revealed', 'reverb', 'reversed', 'revert', 'review', 'reviewer', 'revise', 'revision', 'revisit', 'rich', 'rid', 'ride', 'ridge', 'ridiculous', 'ridiculously', 'riding', 'rig', 'right', 'ring', 'rip', 'rise', 'risk', 'risky', 'rite', 'road', 'roam', 'rob', 'robbery', 'rock', 'rocket', 'rocking', 'roi', 'role', 'roll', 'rolled', 'rolling', 'room', 'roomy', 'root', 'rooted', 'rotate', 'roughly', 'round', 'route', 'routinely', 'row', 'rub', 'rubbish', 'ruin', 'ruined', 'rule', 'run', 'running', 'rush', 'sacrificing', 'sad', 'sadly', 'safe', 'safely', 'safety', 'said', 'sailing', 'sale', 'salt', 'salvage', 'salvageable', 'sam', 'sammy', 'sample', 'san', 'sand', 'sanded', 'sandwich', 'sat', 'satisfaction', 'satisfactory', 'satisfied', 'satisfy', 'satisfying', 'save', 'saved', 'saver', 'saving', 'savvy', 'saw', 'say', 'saying', 'scads', 'scalding', 'scam', 'scan', 'scanner', 'scanning', 'scary', 'scenario', 'schedule', 'school', 'science', 'scientifically', 'scissors', 'scotch', 'scouting', 'scratch', 'scream', 'screaming', 'screen', 'screened', 'screw', 'screwed', 'screwing', 'scroll', 'se', 'sealed', 'seamless', 'seamlessly', 'search', 'searching', 'season', 'seated', 'sec', 'second', 'secondary', 'secondly', 'secret', 'section', 'secure', 'securely', 'security', 'see', 'seeing', 'seek', 'seem', 'seemingly', 'seemless', 'seen', 'segment', 'seldom', 'select', 'selected', 'selection', 'self', 'sell', 'seller', 'selling', 'semi', 'send', 'sending', 'sensation', 'sense', 'sensible', 'sensitive', 'sent', 'sentence', 'separate', 'separately', 'separates', 'sequence', 'sequential', 'ser', 'serial', 'series', 'serious', 'seriously', 'sero', 'serve', 'server', 'service', 'session', 'sessions', 'set', 'setting', 'settle', 'settled', 'settling', 'setup', 'seven', 'several', 'severe', 'sh', 'shack', 'shake', 'shakedown', 'shaking', 'shall', 'shallow', 'shame', 'shampoo', 'shape', 'share', 'sharp', 'sharper', 'shatterproof', 'shed', 'sheer', 'sheet', 'shell', 'shield', 'shiny', 'ship', 'shipment', 'shipped', 'shipping', 'shock', 'shocker', 'shockproof', 'shoot', 'shooting', 'shop', 'shoplifting', 'shopper', 'shopping', 'short', 'shortcoming', 'shorten', 'shortly', 'shot', 'shoulder', 'shove', 'show', 'showing', 'shown', 'shrink', 'shuffling', 'shut', 'shutdown', 'shutter', 'shuttle', 'shy', 'side', 'sidenote', 'sides', 'sie', 'sigh', 'sign', 'signal', 'significant', 'significantly', 'silicon', 'silk', 'silly', 'silver', 'similar', 'similarly', 'simple', 'simpler', 'simplicity', 'simply', 'simultaneous', 'simultaneously', 'since', 'sincerely', 'single', 'sip', 'sister', 'sit', 'site', 'sitting', 'situation', 'six', 'sizable', 'size', 'sized', 'sizes', 'skeptical', 'skepticism', 'sketchy', 'ski', 'skiing', 'skill', 'skim', 'skimp', 'skimpy', 'skip', 'skipping', 'sky', 'skyrocket', 'slack', 'slacking', 'slam', 'slate', 'sleek', 'sleeve', 'sliced', 'slick', 'slid', 'slide', 'slided', 'slider', 'slight', 'slightly', 'sliminess', 'slimy', 'slip', 'slipped', 'slot', 'slouch', 'slow', 'slowdown', 'slowly', 'slows', 'sluggishness', 'small', 'smaller', 'smart', 'smashing', 'smile', 'smoking', 'smooth', 'smoother', 'smoothly', 'snagged', 'snap', 'snapped', 'snapping', 'snappy', 'snaps', 'snapshot', 'snatched', 'sneaker', 'sneaky', 'sneeze', 'snow', 'snugly', 'soaked', 'solar', 'sold', 'sole', 'solid', 'solo', 'solution', 'solve', 'somebody', 'someday', 'somehow', 'someone', 'something', 'sometime', 'sometimes', 'somewhat', 'somewhere', 'son', 'song', 'sons', 'soon', 'sooner', 'sorage', 'sorcery', 'sorely', 'sorry', 'sort', 'sought', 'sound', 'sour', 'source', 'south', 'southern', 'space', 'spacious', 'spare', 'spark', 'speak', 'speaker', 'speaking', 'spear', 'spec', 'special', 'specialized', 'specially', 'specific', 'specifically', 'specification', 'specify', 'specs', 'spectacular', 'sped', 'speed', 'speedy', 'spell', 'speller', 'spend', 'spending', 'spent', 'spin', 'spitting', 'splendidly', 'splurge', 'spoke', 'spoken', 'spontaneously', 'sport', 'sports', 'spot', 'spotty', 'spouse', 'spread', 'spring', 'springtime', 'sprint', 'sprung', 'sputtering', 'spy', 'squad', 'square', 'squealing', 'squeeze', 'st', 'stability', 'stable', 'stage', 'stall', 'stalling', 'stamp', 'stand', 'standard', 'standardize', 'standing', 'stanza', 'star', 'stare', 'start', 'starting', 'stash', 'state', 'stated', 'static', 'station', 'status', 'stay', 'stayed', 'stays', 'steadily', 'steady', 'steal', 'stealing', 'steam', 'steel', 'steep', 'steer', 'stellar', 'stench', 'step', 'stepdaughter', 'stereo', 'stick', 'sticker', 'sticking', 'sticks', 'still', 'stock', 'stocking', 'stolen', 'stone', 'stood', 'stop', 'stoppage', 'stopped', 'stopping', 'storage', 'store', 'storm', 'story', 'straight', 'straightforward', 'strange', 'strap', 'stratosphere', 'stream', 'streamer', 'streaming', 'strength', 'stress', 'stretch', 'strict', 'strictly', 'stringent', 'stripe', 'strong', 'strongly', 'structure', 'stuck', 'studio', 'stuff', 'stuffed', 'stuffer', 'stunning', 'stunt', 'stupid', 'sturdy', 'stutter', 'stuttering', 'style', 'stylish', 'sub', 'subdivision', 'subject', 'submersion', 'subscribe', 'subsequently', 'substandard', 'substantial', 'substantially', 'substitute', 'subtract', 'succeed', 'success', 'successful', 'successfully', 'suck', 'sudden', 'suddenly', 'suffer', 'suffering', 'suffice', 'sufficient', 'suggest', 'suggesting', 'suggestion', 'suicidal', 'suing', 'suit', 'suitable', 'suite', 'suiting', 'sum', 'summary', 'summer', 'summery', 'sun', 'sung', 'sup', 'super', 'superb', 'superbly', 'superior', 'supermarket', 'supplement', 'supplemental', 'supplier', 'supply', 'support', 'supporting', 'suppose', 'supposed', 'supposedly', 'supreme', 'sure', 'surely', 'surf', 'surface', 'surgery', 'surpass', 'surprise', 'surprising', 'surprisingly', 'surveillance', 'survive', 'surviving', 'susceptible', 'suspect', 'suspected', 'suspicion', 'suspicious', 'sustain', 'sustained', 'swap', 'swapping', 'sway', 'swayed', 'sweat', 'sweet', 'sweetie', 'swell', 'swim', 'swipe', 'switch', 'switched', 'switching', 'swore', 'sync', 'synonym', 'system', 'ta', 'tab', 'table', 'tables', 'tablet', 'tactical', 'tag', 'take', 'taken', 'taking', 'talk', 'talking', 'tandem', 'tape', 'tapping', 'target', 'targeted', 'task', 'tax', 'taxi', 'team', 'tech', 'technical', 'technically', 'technique', 'technological', 'technology', 'techy', 'teen', 'telephone', 'tell', 'telling', 'temp', 'temper', 'temperature', 'temporary', 'ten', 'tend', 'term', 'terminal', 'terrible', 'terribly', 'terrific', 'territory', 'test', 'tested', 'tester', 'testing', 'text', 'th', 'tha', 'thank', 'thankfully', 'thanks', 'thanksgiving', 'thats', 'theft', 'theoretical', 'theoretically', 'thereafter', 'therefore', 'thereon', 'theres', 'theyre', 'thick', 'thin', 'thing', 'think', 'thinking', 'thinner', 'third', 'tho', 'thorough', 'thoroughly', 'though', 'thought', 'thousand', 'three', 'threshold', 'threw', 'thrive', 'throttling', 'throughout', 'throughput', 'throw', 'throwing', 'thrown', 'thumb', 'thumbnail', 'thunderbolt', 'thus', 'ti', 'ticket', 'ticking', 'tidy', 'tier', 'tiger', 'tight', 'tightly', 'tile', 'till', 'tilt', 'time', 'timely', 'timer', 'times', 'timing', 'tiny', 'tip', 'tired', 'title', 'toast', 'today', 'together', 'toilet', 'told', 'tolerable', 'tomorrow', 'ton', 'tone', 'tonight', 'tony', 'took', 'tool', 'tooth', 'top', 'topic', 'topo', 'topographic', 'tops', 'torch', 'tore', 'total', 'totally', 'tote', 'touch', 'touched', 'touching', 'touchy', 'tough', 'tour', 'toward', 'towards', 'town', 'toy', 'trace', 'track', 'tracked', 'tracker', 'trade', 'trading', 'traditional', 'traffic', 'trail', 'train', 'transcend', 'transfer', 'transferred', 'transferring', 'transformer', 'transit', 'transition', 'translate', 'translator', 'transmit', 'transport', 'transported', 'transporting', 'transversely', 'trap', 'trash', 'travel', 'traveling', 'treat', 'tremendous', 'trend', 'trick', 'tried', 'trigger', 'trilogy', 'trip', 'triple', 'triumph', 'trolling', 'trouble', 'troublesome', 'truck', 'trucks', 'true', 'truly', 'trust', 'trusting', 'trustworthy', 'trusty', 'truth', 'truthfully', 'try', 'trying', 'tune', 'tuned', 'turn', 'turned', 'turning', 'turns', 'twelve', 'twice', 'twist', 'two', 'type', 'typer', 'typical', 'typically', 'u', 'ugh', 'ugly', 'ultimate', 'ultimately', 'ultra', 'um', 'umpteen', 'un', 'unable', 'unacceptable', 'unaware', 'unbeatable', 'unbelievable', 'unbelievably', 'unbranded', 'unchanged', 'unclassed', 'uncle', 'unclear', 'uncommon', 'unconscionable', 'uncontrollably', 'undamaged', 'understand', 'understandable', 'underwater', 'undo', 'undue', 'unexpected', 'unexpectedly', 'unfamiliar', 'unfold', 'unfortunately', 'unfriendly', 'unfunctional', 'ungodly', 'unhappy', 'unhelpful', 'unimpressed', 'uninterrupted', 'unique', 'unit', 'universal', 'unknowingly', 'unknown', 'unless', 'unlike', 'unlimited', 'unload', 'unlock', 'unlocked', 'unlucky', 'unmatched', 'unmodified', 'unmount', 'unmounted', 'unmounting', 'unneeded', 'unofficial', 'unopened', 'unpacked', 'unpainted', 'unpatched', 'unplugged', 'unreadable', 'unreal', 'unrealistic', 'unrecognizable', 'unrecognized', 'unrecoverable', 'unrelated', 'unreliable', 'unresponsive', 'unrooted', 'unsafe', 'unsatisfied', 'unscientific', 'unscientifically', 'unspoken', 'unstable', 'unstoppable', 'unsupported', 'unsure', 'unsurpassed', 'unto', 'untouchable', 'unusable', 'unwatchable', 'unwrapped', 'update', 'upgrade', 'upon', 'upper', 'upping', 'upset', 'upwards', 'ur', 'us', 'usability', 'usable', 'usage', 'use', 'used', 'useful', 'useless', 'user', 'ush', 'usual', 'usually', 'utility', 'utilize', 'v', 'vacation', 'validate', 'validity', 'valuable', 'value', 'vanish', 'variance', 'variant', 'varied', 'variety', 'various', 'vary', 'vast', 'vehicle', 'vender', 'vendor', 'venture', 'venue', 'verdict', 'verge', 'verify', 'versatile', 'versatility', 'verse', 'version', 'via', 'viable', 'vibrant', 'vibration', 'vice', 'vicinity', 'video', 'view', 'viewable', 'viewer', 'virgin', 'virtual', 'virtually', 'virus', 'visible', 'vision', 'vista', 'visual', 'visually', 'vital', 'vivid', 'voice', 'void', 'voltage', 'volume', 'vote', 'vouch', 'voyage', 'w', 'wait', 'waiting', 'waking', 'walk', 'wall', 'wallet', 'wan', 'wand', 'want', 'wanting', 'warehouse', 'warm', 'warn', 'warning', 'warped', 'warrant', 'warrantee', 'warranty', 'wary', 'wasabi', 'wash', 'washed', 'washer', 'washing', 'wasnt', 'waste', 'wasted', 'wasteful', 'wasting', 'wat', 'watch', 'watchdog', 'watched', 'watcher', 'watching', 'water', 'waterproof', 'wave', 'wavey', 'way', 'ways', 'weak', 'wearing', 'weary', 'weather', 'web', 'wedding', 'week', 'weekend', 'weighed', 'weighing', 'weight', 'weird', 'welcome', 'well', 'went', 'werent', 'wet', 'whatever', 'whatnot', 'whats', 'whatsoever', 'whenever', 'whereas', 'wherever', 'whet', 'whether', 'whilst', 'whim', 'whirl', 'whit', 'white', 'whoever', 'whole', 'whopping', 'whose', 'wi', 'wide', 'widespread', 'wife', 'wiggle', 'wild', 'wildly', 'willing', 'willingly', 'win', 'wince', 'wind', 'window', 'windshield', 'winner', 'winter', 'wipe', 'wire', 'wired', 'wireless', 'wirelessly', 'wise', 'wish', 'wished', 'wishing', 'wit', 'within', 'without', 'wiz', 'wizard', 'woke', 'wolf', 'woman', 'wonder', 'wonderful', 'wonderfully', 'wondering', 'wonky', 'wont', 'woo', 'wood', 'woohoo', 'word', 'wore', 'work', 'workable', 'worked', 'worker', 'working', 'workmanship', 'workout', 'works', 'world', 'worn', 'worried', 'worry', 'worrying', 'worse', 'worst', 'worth', 'worthful', 'worthless', 'worthy', 'would', 'wouldnt', 'wound', 'wow', 'wrap', 'wrapped', 'wrapper', 'wrestle', 'wright', 'writable', 'write', 'writer', 'writing', 'written', 'wrong', 'wrote', 'x', 'xi', 'ya', 'yah', 'yap', 'yarn', 'yeah', 'year', 'yee', 'yellow', 'yep', 'yes', 'yesterday', 'yet', 'yield', 'yoga', 'young', 'yr', 'z', 'zar', 'zero', 'zip', 'zippy', 'zone', 'zoning', 'zoom']\n",
      "Total number of distinct words: 4135\n"
     ]
    }
   ],
   "source": [
    "# Apply the get_vocab function to the training data\n",
    "corpus = df['reviewText']\n",
    "corpus_words = get_vocab(corpus)\n",
    "\n",
    "# Print the first 20 words in the sorted vocabulary\n",
    "print(\"Vocabulary (first 20 words):\", corpus_words[:])\n",
    "\n",
    "# Print the total number of distinct words in the vocabulary\n",
    "print(\"Total number of distinct words:\", len(corpus_words))\n"
   ]
  },
  {
   "cell_type": "code",
   "execution_count": 8,
   "id": "LGRVOW3nEsBI",
   "metadata": {
    "id": "LGRVOW3nEsBI"
   },
   "outputs": [],
   "source": [
    "import numpy as np\n",
    "\n",
    "def compute_co_occurrence_matrix(corpus_words, corpus, window_size=4):\n",
    "    word2index = {word: index for index, word in enumerate(corpus_words)}\n",
    "    vocab_size = len(corpus_words)\n",
    "\n",
    "    # Initialize the co-occurrence matrix with zeros\n",
    "    M = np.zeros((vocab_size, vocab_size), dtype=np.int32)\n",
    "\n",
    "    for review_tokens in corpus:\n",
    "        for center_index, center_word in enumerate(review_tokens):\n",
    "            center_word_index = word2index.get(center_word)\n",
    "            if center_word_index is not None:\n",
    "                left_boundary = max(0, center_index - window_size)\n",
    "                right_boundary = min(len(review_tokens), center_index + window_size + 1)\n",
    "\n",
    "                context_indices = [word2index.get(review_tokens[i]) for i in range(left_boundary, right_boundary) if i != center_index]\n",
    "                context_indices = [i for i in context_indices if i is not None]\n",
    "\n",
    "                for context_index in context_indices:\n",
    "                    M[center_word_index, context_index] += 1\n",
    "\n",
    "    return M, word2index\n"
   ]
  },
  {
   "cell_type": "code",
   "execution_count": 9,
   "id": "426ac691",
   "metadata": {
    "colab": {
     "base_uri": "https://localhost:8080/"
    },
    "id": "426ac691",
    "outputId": "77f21ca2-07f2-482b-a10f-302d0663f46b"
   },
   "outputs": [
    {
     "name": "stdout",
     "output_type": "stream",
     "text": [
      "Co-occurrence Matrix:\n",
      "[[0 0 0 ... 0 0 0]\n",
      " [0 0 0 ... 0 0 0]\n",
      " [0 0 0 ... 0 0 0]\n",
      " ...\n",
      " [0 0 0 ... 0 0 0]\n",
      " [0 0 0 ... 0 0 0]\n",
      " [0 0 0 ... 0 0 0]]\n",
      "\n",
      "Word to Index Dictionary:\n",
      "{'ability': 0, 'able': 1, 'abroad': 2, 'abruptly': 3, 'absolute': 4, 'absolutely': 5, 'abuse': 6, 'abysmal': 7, 'accept': 8, 'acceptable': 9, 'acceptably': 10, 'accepted': 11, 'access': 12, 'accessible': 13, 'accessory': 14, 'accident': 15, 'accidentally': 16, 'accidently': 17, 'accommodate': 18, 'accomplish': 19, 'accord': 20, 'according': 21, 'accordingly': 22, 'account': 23, 'accurate': 24, 'ace': 25, 'achieve': 26, 'acknowledge': 27, 'acknowledged': 28, 'acquire': 29, 'acquired': 30, 'across': 31, 'act': 32, 'acting': 33, 'action': 34, 'active': 35, 'activity': 36, 'actual': 37, 'actuality': 38, 'actually': 39, 'ad': 40, 'adapt': 41, 'adapter': 42, 'adaptor': 43, 'add': 44, 'added': 45, 'addenda': 46, 'addition': 47, 'additional': 48, 'additionally': 49, 'address': 50, 'adequate': 51, 'adequately': 52, 'adjust': 53, 'admiral': 54, 'admit': 55, 'admitted': 56, 'admittedly': 57, 'adopter': 58, 'adult': 59, 'advance': 60, 'advanced': 61, 'advancing': 62, 'advantage': 63, 'adventure': 64, 'advertise': 65, 'advertisement': 66, 'advertising': 67, 'advice': 68, 'advise': 69, 'advised': 70, 'aerobic': 71, 'affect': 72, 'affected': 73, 'affecting': 74, 'afford': 75, 'affordable': 76, 'afraid': 77, 'aft': 78, 'afternoon': 79, 'afterward': 80, 'afterwards': 81, 'age': 82, 'agent': 83, 'aging': 84, 'ago': 85, 'agree': 86, 'agreed': 87, 'ah': 88, 'ahead': 89, 'air': 90, 'airplane': 91, 'airport': 92, 'al': 93, 'alas': 94, 'albeit': 95, 'album': 96, 'alec': 97, 'alert': 98, 'alien': 99, 'alike': 100, 'allegedly': 101, 'allocation': 102, 'allot': 103, 'allow': 104, 'almost': 105, 'alone': 106, 'along': 107, 'already': 108, 'alright': 109, 'also': 110, 'alt': 111, 'alternately': 112, 'alternative': 113, 'although': 114, 'altogether': 115, 'aluminum': 116, 'alway': 117, 'always': 118, 'amazed': 119, 'amazement': 120, 'amazing': 121, 'amazingly': 122, 'among': 123, 'amount': 124, 'ample': 125, 'ana': 126, 'android': 127, 'anecdotal': 128, 'angle': 129, 'angry': 130, 'anime': 131, 'anker': 132, 'anniversary': 133, 'announcement': 134, 'annoyance': 135, 'annoying': 136, 'anomaly': 137, 'another': 138, 'answer': 139, 'anti': 140, 'anticipation': 141, 'antivirus': 142, 'anybody': 143, 'anyhow': 144, 'anyone': 145, 'anything': 146, 'anyway': 147, 'anyways': 148, 'anywhere': 149, 'apart': 150, 'apartment': 151, 'apex': 152, 'aplomb': 153, 'apparent': 154, 'apparently': 155, 'appealing': 156, 'appear': 157, 'appearance': 158, 'appendage': 159, 'apple': 160, 'appliance': 161, 'applicable': 162, 'application': 163, 'applied': 164, 'apply': 165, 'appreciate': 166, 'appreciative': 167, 'apprehensive': 168, 'approaching': 169, 'appropriate': 170, 'approval': 171, 'approve': 172, 'approximately': 173, 'ar': 174, 'arc': 175, 'architecture': 176, 'archive': 177, 'arduous': 178, 'area': 179, 'arent': 180, 'argue': 181, 'arise': 182, 'arm': 183, 'armed': 184, 'arose': 185, 'around': 186, 'arrival': 187, 'arrive': 188, 'art': 189, 'arthritis': 190, 'article': 191, 'aside': 192, 'ask': 193, 'asleep': 194, 'aspect': 195, 'asphalt': 196, 'aspire': 197, 'ass': 198, 'assembly': 199, 'assess': 200, 'assessment': 201, 'asset': 202, 'assign': 203, 'assist': 204, 'association': 205, 'assorted': 206, 'assortment': 207, 'assume': 208, 'assumed': 209, 'assuming': 210, 'assurance': 211, 'assure': 212, 'assured': 213, 'assuringly': 214, 'astonishingly': 215, 'atlantic': 216, 'atop': 217, 'atrocious': 218, 'attached': 219, 'attachment': 220, 'attain': 221, 'attempt': 222, 'attention': 223, 'attest': 224, 'attractive': 225, 'attribute': 226, 'auction': 227, 'audible': 228, 'audio': 229, 'augmentation': 230, 'august': 231, 'authentic': 232, 'authenticate': 233, 'authenticity': 234, 'authorized': 235, 'auto': 236, 'automatic': 237, 'automatically': 238, 'automotive': 239, 'avail': 240, 'availability': 241, 'available': 242, 'average': 243, 'avoid': 244, 'await': 245, 'aware': 246, 'away': 247, 'awe': 248, 'awesome': 249, 'awesomely': 250, 'awful': 251, 'awhile': 252, 'awry': 253, 'ax': 254, 'axiom': 255, 'b': 256, 'baby': 257, 'back': 258, 'backed': 259, 'background': 260, 'backing': 261, 'backside': 262, 'backup': 263, 'backward': 264, 'backwards': 265, 'bad': 266, 'badly': 267, 'bag': 268, 'balance': 269, 'ball': 270, 'bam': 271, 'band': 272, 'bang': 273, 'banking': 274, 'banner': 275, 'bar': 276, 'bare': 277, 'barely': 278, 'bargain': 279, 'barn': 280, 'base': 281, 'based': 282, 'basement': 283, 'basic': 284, 'basically': 285, 'basis': 286, 'basketball': 287, 'bass': 288, 'bast': 289, 'basta': 290, 'bat': 291, 'batch': 292, 'battery': 293, 'bay': 294, 'beagle': 295, 'bean': 296, 'bear': 297, 'bearing': 298, 'beast': 299, 'beat': 300, 'beatable': 301, 'beating': 302, 'beautiful': 303, 'beautifully': 304, 'beauty': 305, 'become': 306, 'becomes': 307, 'becoming': 308, 'bed': 309, 'beef': 310, 'beefy': 311, 'bees': 312, 'beforehand': 313, 'beg': 314, 'begin': 315, 'beginning': 316, 'begun': 317, 'behave': 318, 'behavior': 319, 'behavioral': 320, 'behind': 321, 'behold': 322, 'believe': 323, 'believer': 324, 'beloved': 325, 'bench': 326, 'bend': 327, 'bene': 328, 'benefit': 329, 'beside': 330, 'besides': 331, 'best': 332, 'bet': 333, 'better': 334, 'beware': 335, 'beyond': 336, 'bid': 337, 'bien': 338, 'big': 339, 'bigger': 340, 'biggest': 341, 'bike': 342, 'bill': 343, 'billing': 344, 'billion': 345, 'bin': 346, 'binary': 347, 'bingo': 348, 'birthday': 349, 'bit': 350, 'bitty': 351, 'black': 352, 'blackberry': 353, 'blade': 354, 'blah': 355, 'blame': 356, 'blamed': 357, 'blank': 358, 'blaze': 359, 'blazing': 360, 'bleeding': 361, 'blend': 362, 'blink': 363, 'blinked': 364, 'blinks': 365, 'blip': 366, 'bliss': 367, 'blissful': 368, 'blister': 369, 'bloated': 370, 'block': 371, 'blocked': 372, 'blocking': 373, 'blocky': 374, 'blow': 375, 'blowing': 376, 'blown': 377, 'blue': 378, 'board': 379, 'boat': 380, 'bob': 381, 'body': 382, 'bogus': 383, 'bomb': 384, 'bone': 385, 'bonus': 386, 'book': 387, 'booklet': 388, 'bookshelf': 389, 'boost': 390, 'boot': 391, 'booted': 392, 'booting': 393, 'bootleg': 394, 'boots': 395, 'boredom': 396, 'boring': 397, 'born': 398, 'bother': 399, 'bottle': 400, 'bottleneck': 401, 'bottom': 402, 'bough': 403, 'bought': 404, 'bounce': 405, 'bouncing': 406, 'boundary': 407, 'bout': 408, 'box': 409, 'boy': 410, 'brag': 411, 'brain': 412, 'brainer': 413, 'bran': 414, 'brand': 415, 'branded': 416, 'bravo': 417, 'bread': 418, 'break': 419, 'breakdown': 420, 'breaker': 421, 'breaking': 422, 'breathe': 423, 'breathing': 424, 'breed': 425, 'breeze': 426, 'brew': 427, 'brick': 428, 'bridge': 429, 'brief': 430, 'briefly': 431, 'bright': 432, 'brilliant': 433, 'brilliantly': 434, 'bring': 435, 'brisk': 436, 'brittle': 437, 'broke': 438, 'broken': 439, 'brother': 440, 'brought': 441, 'brown': 442, 'browse': 443, 'browser': 444, 'browsing': 445, 'brutally': 446, 'buck': 447, 'budget': 448, 'buff': 449, 'buffer': 450, 'bug': 451, 'bugger': 452, 'buggy': 453, 'build': 454, 'building': 455, 'built': 456, 'bulk': 457, 'bullet': 458, 'bum': 459, 'bummed': 460, 'bummer': 461, 'bump': 462, 'bunch': 463, 'bundle': 464, 'bunk': 465, 'bur': 466, 'burn': 467, 'burned': 468, 'burner': 469, 'burning': 470, 'burst': 471, 'bus': 472, 'business': 473, 'bust': 474, 'busted': 475, 'busy': 476, 'butt': 477, 'butter': 478, 'button': 479, 'buy': 480, 'buyer': 481, 'bye': 482, 'bypass': 483, 'c': 484, 'ca': 485, 'cable': 486, 'cache': 487, 'calculated': 488, 'calculating': 489, 'call': 490, 'calling': 491, 'cam': 492, 'came': 493, 'camel': 494, 'camera': 495, 'camper': 496, 'canada': 497, 'cancel': 498, 'cancer': 499, 'cannon': 500, 'canon': 501, 'cant': 502, 'cap': 503, 'capability': 504, 'capable': 505, 'capacitive': 506, 'capacity': 507, 'capitalism': 508, 'capping': 509, 'captain': 510, 'captivate': 511, 'capture': 512, 'car': 513, 'caracter': 514, 'card': 515, 'cardboard': 516, 'care': 517, 'career': 518, 'careful': 519, 'carefully': 520, 'carried': 521, 'carrier': 522, 'carry': 523, 'carrying': 524, 'cart': 525, 'cartoon': 526, 'case': 527, 'cash': 528, 'casual': 529, 'cat': 530, 'catastrophe': 531, 'catastrophic': 532, 'catch': 533, 'catching': 534, 'category': 535, 'caught': 536, 'cause': 537, 'causing': 538, 'caution': 539, 'cautiously': 540, 'cave': 541, 'caveat': 542, 'cease': 543, 'cell': 544, 'cellular': 545, 'cent': 546, 'center': 547, 'centered': 548, 'central': 549, 'certain': 550, 'certainly': 551, 'certainty': 552, 'certified': 553, 'certify': 554, 'chain': 555, 'challenge': 556, 'champ': 557, 'chance': 558, 'change': 559, 'chant': 560, 'charge': 561, 'charger': 562, 'charging': 563, 'charm': 564, 'chart': 565, 'chat': 566, 'cheap': 567, 'cheaping': 568, 'cheaply': 569, 'check': 570, 'checked': 571, 'cheep': 572, 'cheeper': 573, 'cheesy': 574, 'chew': 575, 'child': 576, 'chilling': 577, 'china': 578, 'chip': 579, 'chips': 580, 'chirping': 581, 'choice': 582, 'choke': 583, 'choose': 584, 'choosing': 585, 'chopped': 586, 'choppy': 587, 'chose': 588, 'chosen': 589, 'chunk': 590, 'circumstance': 591, 'cite': 592, 'claim': 593, 'clamshell': 594, 'clarify': 595, 'class': 596, 'classes': 597, 'classic': 598, 'classification': 599, 'classified': 600, 'clean': 601, 'cleaning': 602, 'clear': 603, 'clearly': 604, 'click': 605, 'clicker': 606, 'client': 607, 'cliff': 608, 'clip': 609, 'clipping': 610, 'clips': 611, 'clock': 612, 'clocked': 613, 'clockwork': 614, 'clog': 615, 'close': 616, 'closer': 617, 'cloth': 618, 'cloud': 619, 'clout': 620, 'clue': 621, 'cluster': 622, 'coast': 623, 'cobra': 624, 'cocaine': 625, 'code': 626, 'coffee': 627, 'cold': 628, 'collection': 629, 'color': 630, 'coloring': 631, 'colors': 632, 'column': 633, 'combination': 634, 'combine': 635, 'combined': 636, 'come': 637, 'comedy': 638, 'comes': 639, 'comfort': 640, 'comfortable': 641, 'comforting': 642, 'comic': 643, 'coming': 644, 'command': 645, 'commando': 646, 'commend': 647, 'comment': 648, 'commenter': 649, 'commercial': 650, 'commercially': 651, 'commit': 652, 'commodity': 653, 'common': 654, 'commonplace': 655, 'communicate': 656, 'communication': 657, 'compact': 658, 'company': 659, 'comparable': 660, 'comparably': 661, 'comparatively': 662, 'compare': 663, 'comparison': 664, 'compatibility': 665, 'compatible': 666, 'compel': 667, 'compensate': 668, 'competition': 669, 'competitive': 670, 'competitor': 671, 'compile': 672, 'complain': 673, 'complaint': 674, 'complete': 675, 'completely': 676, 'complex': 677, 'complexity': 678, 'compliance': 679, 'compliant': 680, 'comprehensive': 681, 'compressed': 682, 'compromise': 683, 'computation': 684, 'computer': 685, 'con': 686, 'concept': 687, 'concern': 688, 'concerned': 689, 'concert': 690, 'conclusion': 691, 'concrete': 692, 'condense': 693, 'condenser': 694, 'condition': 695, 'conduct': 696, 'confidence': 697, 'confident': 698, 'configuration': 699, 'confirm': 700, 'confirmed': 701, 'conflict': 702, 'conflicting': 703, 'confuse': 704, 'confused': 705, 'confusion': 706, 'congressman': 707, 'conjunction': 708, 'connect': 709, 'connected': 710, 'connection': 711, 'connectivity': 712, 'connector': 713, 'consecutive': 714, 'conservative': 715, 'consider': 716, 'considerable': 717, 'considerably': 718, 'consideration': 719, 'considered': 720, 'considering': 721, 'consistency': 722, 'consistent': 723, 'consistently': 724, 'console': 725, 'consolidate': 726, 'consolidated': 727, 'constant': 728, 'constantly': 729, 'constraint': 730, 'construction': 731, 'consume': 732, 'consumer': 733, 'consuming': 734, 'contact': 735, 'contain': 736, 'container': 737, 'content': 738, 'contentious': 739, 'contents': 740, 'continually': 741, 'continue': 742, 'continued': 743, 'continuity': 744, 'continuous': 745, 'continuously': 746, 'contour': 747, 'contract': 748, 'contrast': 749, 'control': 750, 'controller': 751, 'controversy': 752, 'convenience': 753, 'convenient': 754, 'conveniently': 755, 'conventional': 756, 'conversation': 757, 'conversion': 758, 'convert': 759, 'converted': 760, 'converter': 761, 'convertible': 762, 'convince': 763, 'convinced': 764, 'cool': 765, 'copied': 766, 'copious': 767, 'copter': 768, 'copy': 769, 'cord': 770, 'core': 771, 'corner': 772, 'corporation': 773, 'correct': 774, 'corrected': 775, 'correctly': 776, 'corresponding': 777, 'corrupt': 778, 'corrupted': 779, 'corrupting': 780, 'corruption': 781, 'cost': 782, 'costly': 783, 'costumer': 784, 'could': 785, 'count': 786, 'counter': 787, 'counterfeit': 788, 'counterpart': 789, 'counting': 790, 'countless': 791, 'country': 792, 'couple': 793, 'course': 794, 'cover': 795, 'covered': 796, 'covering': 797, 'crack': 798, 'cracked': 799, 'cradle': 800, 'cram': 801, 'cranked': 802, 'crap': 803, 'crapple': 804, 'craps': 805, 'crash': 806, 'crazy': 807, 'cream': 808, 'create': 809, 'credit': 810, 'creepy': 811, 'crime': 812, 'crisp': 813, 'crispy': 814, 'criteria': 815, 'critical': 816, 'critically': 817, 'crooked': 818, 'cross': 819, 'crossed': 820, 'crossing': 821, 'crowded': 822, 'crucial': 823, 'cruise': 824, 'cry': 825, 'crystal': 826, 'culprit': 827, 'cup': 828, 'cure': 829, 'curiosity': 830, 'curious': 831, 'current': 832, 'currently': 833, 'curve': 834, 'custom': 835, 'customer': 836, 'cut': 837, 'cute': 838, 'cutter': 839, 'cutting': 840, 'cwm': 841, 'cyanogen': 842, 'cycle': 843, 'cyclic': 844, 'da': 845, 'dab': 846, 'dad': 847, 'daily': 848, 'damage': 849, 'damn': 850, 'damned': 851, 'dang': 852, 'dangerous': 853, 'dangerously': 854, 'dare': 855, 'dark': 856, 'darn': 857, 'darned': 858, 'dash': 859, 'dashboard': 860, 'data': 861, 'date': 862, 'daughter': 863, 'day': 864, 'days': 865, 'daze': 866, 'de': 867, 'dead': 868, 'deal': 869, 'dealership': 870, 'dealing': 871, 'dealt': 872, 'dear': 873, 'death': 874, 'deb': 875, 'debating': 876, 'decade': 877, 'decay': 878, 'deceive': 879, 'decent': 880, 'decently': 881, 'deception': 882, 'decide': 883, 'decided': 884, 'decision': 885, 'decrease': 886, 'deduct': 887, 'deep': 888, 'deeply': 889, 'default': 890, 'defect': 891, 'defective': 892, 'defined': 893, 'definite': 894, 'definitely': 895, 'definition': 896, 'definitive': 897, 'deftly': 898, 'defy': 899, 'degradation': 900, 'degrade': 901, 'degree': 902, 'delay': 903, 'delete': 904, 'deliberately': 905, 'delightful': 906, 'deliver': 907, 'delivery': 908, 'dell': 909, 'demand': 910, 'demanding': 911, 'demented': 912, 'demon': 913, 'demonstrate': 914, 'density': 915, 'dent': 916, 'department': 917, 'dependable': 918, 'dependent': 919, 'depending': 920, 'deposit': 921, 'depressed': 922, 'depth': 923, 'describe': 924, 'description': 925, 'deserved': 926, 'design': 927, 'designation': 928, 'designed': 929, 'desire': 930, 'desired': 931, 'desk': 932, 'desperate': 933, 'desperately': 934, 'despite': 935, 'destination': 936, 'destroy': 937, 'detail': 938, 'detailed': 939, 'detect': 940, 'detection': 941, 'determine': 942, 'determined': 943, 'determiner': 944, 'detraction': 945, 'dev': 946, 'developer': 947, 'development': 948, 'device': 949, 'devise': 950, 'dew': 951, 'di': 952, 'diagnostics': 953, 'diamond': 954, 'dice': 955, 'didnt': 956, 'die': 957, 'diet': 958, 'difference': 959, 'different': 960, 'differentiation': 961, 'differently': 962, 'difficult': 963, 'difficulty': 964, 'dig': 965, 'digging': 966, 'digital': 967, 'digitally': 968, 'diligence': 969, 'diligently': 970, 'dime': 971, 'dip': 972, 'direct': 973, 'directed': 974, 'direction': 975, 'directly': 976, 'directory': 977, 'dirt': 978, 'dirty': 979, 'disable': 980, 'disagree': 981, 'disappear': 982, 'disappearing': 983, 'disappoint': 984, 'disappointed': 985, 'disappointing': 986, 'disappointingly': 987, 'disappointment': 988, 'disc': 989, 'discern': 990, 'disclaimer': 991, 'disclosure': 992, 'disconnect': 993, 'disconnected': 994, 'discount': 995, 'discourage': 996, 'discover': 997, 'discovered': 998, 'discussion': 999, 'disguise': 1000, 'dish': 1001, 'disk': 1002, 'dismal': 1003, 'dismount': 1004, 'display': 1005, 'displayed': 1006, 'displeased': 1007, 'displeasure': 1008, 'disposal': 1009, 'disqualify': 1010, 'dissatisfied': 1011, 'dissected': 1012, 'distance': 1013, 'distributed': 1014, 'distributor': 1015, 'district': 1016, 'disturbing': 1017, 'dit': 1018, 'dive': 1019, 'divided': 1020, 'doc': 1021, 'dock': 1022, 'doctor': 1023, 'document': 1024, 'documentation': 1025, 'dod': 1026, 'doesnt': 1027, 'dog': 1028, 'dollar': 1029, 'done': 1030, 'dont': 1031, 'door': 1032, 'dory': 1033, 'dos': 1034, 'dose': 1035, 'double': 1036, 'doubled': 1037, 'doubling': 1038, 'doubt': 1039, 'doubtless': 1040, 'downgrade': 1041, 'downhill': 1042, 'downside': 1043, 'dozen': 1044, 'drag': 1045, 'dragged': 1046, 'drain': 1047, 'dram': 1048, 'drama': 1049, 'dramatically': 1050, 'drank': 1051, 'draw': 1052, 'drawback': 1053, 'drawer': 1054, 'dream': 1055, 'dried': 1056, 'drift': 1057, 'dripping': 1058, 'drive': 1059, 'driven': 1060, 'driver': 1061, 'driveway': 1062, 'driving': 1063, 'drop': 1064, 'dropping': 1065, 'drum': 1066, 'dry': 1067, 'dual': 1068, 'dud': 1069, 'dude': 1070, 'due': 1071, 'duly': 1072, 'dumb': 1073, 'dummy': 1074, 'dump': 1075, 'dumping': 1076, 'dunk': 1077, 'duo': 1078, 'durability': 1079, 'durable': 1080, 'duration': 1081, 'dust': 1082, 'duty': 1083, 'dying': 1084, 'e': 1085, 'ea': 1086, 'earful': 1087, 'early': 1088, 'earth': 1089, 'ease': 1090, 'easer': 1091, 'easier': 1092, 'easiest': 1093, 'easily': 1094, 'east': 1095, 'easy': 1096, 'eat': 1097, 'eating': 1098, 'eats': 1099, 'echo': 1100, 'economical': 1101, 'economically': 1102, 'edge': 1103, 'edit': 1104, 'edition': 1105, 'eerie': 1106, 'effective': 1107, 'effectively': 1108, 'effects': 1109, 'efficient': 1110, 'effort': 1111, 'effortlessly': 1112, 'ego': 1113, 'eh': 1114, 'either': 1115, 'eject': 1116, 'ejection': 1117, 'el': 1118, 'electret': 1119, 'electric': 1120, 'electrical': 1121, 'electrify': 1122, 'electronic': 1123, 'electronics': 1124, 'element': 1125, 'eleven': 1126, 'eligibility': 1127, 'eligible': 1128, 'eliminate': 1129, 'elite': 1130, 'else': 1131, 'elsewhere': 1132, 'em': 1133, 'embarrassed': 1134, 'emergency': 1135, 'emotion': 1136, 'employee': 1137, 'empty': 1138, 'en': 1139, 'enable': 1140, 'enclosure': 1141, 'encounter': 1142, 'encrypt': 1143, 'encryption': 1144, 'end': 1145, 'ended': 1146, 'endemic': 1147, 'endless': 1148, 'endorsed': 1149, 'endorsement': 1150, 'enhanced': 1151, 'enjoy': 1152, 'enjoyable': 1153, 'enjoying': 1154, 'enlarged': 1155, 'enlighten': 1156, 'enormous': 1157, 'enough': 1158, 'ensure': 1159, 'entering': 1160, 'enterprise': 1161, 'entertainment': 1162, 'enthusiast': 1163, 'entire': 1164, 'entirely': 1165, 'entirety': 1166, 'entrust': 1167, 'envelop': 1168, 'envelope': 1169, 'environment': 1170, 'environmentally': 1171, 'envy': 1172, 'epic': 1173, 'epidemic': 1174, 'episode': 1175, 'equal': 1176, 'equaling': 1177, 'equally': 1178, 'equip': 1179, 'equipment': 1180, 'equivalent': 1181, 'er': 1182, 'era': 1183, 'erase': 1184, 'erased': 1185, 'erratic': 1186, 'erratically': 1187, 'error': 1188, 'es': 1189, 'especially': 1190, 'essay': 1191, 'essential': 1192, 'essentially': 1193, 'estate': 1194, 'estimate': 1195, 'eternal': 1196, 'eureka': 1197, 'evaluate': 1198, 'evaluation': 1199, 'even': 1200, 'evening': 1201, 'event': 1202, 'eventually': 1203, 'ever': 1204, 'every': 1205, 'everybody': 1206, 'everyday': 1207, 'everyone': 1208, 'everything': 1209, 'everywhere': 1210, 'evident': 1211, 'evidently': 1212, 'evil': 1213, 'evolve': 1214, 'ex': 1215, 'exact': 1216, 'exactly': 1217, 'exaggerated': 1218, 'exaggeration': 1219, 'example': 1220, 'excellence': 1221, 'excellent': 1222, 'excellently': 1223, 'except': 1224, 'exception': 1225, 'exceptional': 1226, 'excess': 1227, 'excessive': 1228, 'excessively': 1229, 'exchange': 1230, 'excite': 1231, 'excited': 1232, 'exciting': 1233, 'exclusively': 1234, 'excuse': 1235, 'execute': 1236, 'exercise': 1237, 'exhausted': 1238, 'exhibit': 1239, 'exist': 1240, 'existence': 1241, 'existent': 1242, 'expand': 1243, 'expanded': 1244, 'expanding': 1245, 'expansion': 1246, 'expect': 1247, 'expectation': 1248, 'expend': 1249, 'expense': 1250, 'expensive': 1251, 'experience': 1252, 'experienced': 1253, 'experiment': 1254, 'experimental': 1255, 'experimented': 1256, 'expert': 1257, 'explain': 1258, 'explaining': 1259, 'explanation': 1260, 'explanatory': 1261, 'explicit': 1262, 'explicitly': 1263, 'explorer': 1264, 'export': 1265, 'exposed': 1266, 'express': 1267, 'extend': 1268, 'extended': 1269, 'extending': 1270, 'extension': 1271, 'extensive': 1272, 'extensively': 1273, 'external': 1274, 'extra': 1275, 'extract': 1276, 'extreme': 1277, 'extremely': 1278, 'eye': 1279, 'f': 1280, 'fabric': 1281, 'face': 1282, 'faced': 1283, 'facilitate': 1284, 'facing': 1285, 'fact': 1286, 'factor': 1287, 'factory': 1288, 'faculty': 1289, 'fade': 1290, 'fail': 1291, 'failing': 1292, 'failure': 1293, 'fair': 1294, 'fairly': 1295, 'fairness': 1296, 'faith': 1297, 'faithfully': 1298, 'fake': 1299, 'fall': 1300, 'fallen': 1301, 'falling': 1302, 'false': 1303, 'falsely': 1304, 'familiar': 1305, 'family': 1306, 'famous': 1307, 'fan': 1308, 'fancier': 1309, 'fancy': 1310, 'fantastic': 1311, 'fantastically': 1312, 'far': 1313, 'farther': 1314, 'fascinating': 1315, 'fashion': 1316, 'fast': 1317, 'faster': 1318, 'fat': 1319, 'father': 1320, 'fault': 1321, 'faulting': 1322, 'faultless': 1323, 'faulty': 1324, 'favor': 1325, 'favorable': 1326, 'favorite': 1327, 'fear': 1328, 'feature': 1329, 'fee': 1330, 'feed': 1331, 'feedback': 1332, 'feeding': 1333, 'feel': 1334, 'feeling': 1335, 'fell': 1336, 'fellow': 1337, 'felt': 1338, 'fence': 1339, 'fi': 1340, 'fiance': 1341, 'fiction': 1342, 'fiddle': 1343, 'fiddling': 1344, 'field': 1345, 'fifteen': 1346, 'fifty': 1347, 'fighting': 1348, 'figure': 1349, 'figured': 1350, 'file': 1351, 'filing': 1352, 'fill': 1353, 'filled': 1354, 'filler': 1355, 'filling': 1356, 'film': 1357, 'filter': 1358, 'fin': 1359, 'final': 1360, 'finally': 1361, 'find': 1362, 'finder': 1363, 'finding': 1364, 'fine': 1365, 'finger': 1366, 'fingernail': 1367, 'finish': 1368, 'finished': 1369, 'fir': 1370, 'fire': 1371, 'firmly': 1372, 'first': 1373, 'firstly': 1374, 'fisher': 1375, 'fishing': 1376, 'fishy': 1377, 'fit': 1378, 'fitted': 1379, 'fitting': 1380, 'five': 1381, 'fix': 1382, 'fixed': 1383, 'fixing': 1384, 'flagship': 1385, 'flair': 1386, 'flaky': 1387, 'flash': 1388, 'flashlight': 1389, 'flat': 1390, 'flaw': 1391, 'flawed': 1392, 'flawless': 1393, 'flawlessly': 1394, 'flexibility': 1395, 'flexible': 1396, 'flight': 1397, 'flimsy': 1398, 'flip': 1399, 'flood': 1400, 'floor': 1401, 'floppy': 1402, 'flow': 1403, 'fluctuate': 1404, 'fluid': 1405, 'fluke': 1406, 'flush': 1407, 'fly': 1408, 'flying': 1409, 'fold': 1410, 'folder': 1411, 'follow': 1412, 'following': 1413, 'food': 1414, 'fool': 1415, 'foot': 1416, 'footage': 1417, 'footprint': 1418, 'foray': 1419, 'forbid': 1420, 'force': 1421, 'forced': 1422, 'forcing': 1423, 'fore': 1424, 'foremost': 1425, 'foresee': 1426, 'foreseeable': 1427, 'forever': 1428, 'forget': 1429, 'forgetting': 1430, 'forgive': 1431, 'forgo': 1432, 'forgot': 1433, 'forgotten': 1434, 'form': 1435, 'formal': 1436, 'format': 1437, 'forth': 1438, 'fortunately': 1439, 'forum': 1440, 'forward': 1441, 'forwarding': 1442, 'fosse': 1443, 'found': 1444, 'four': 1445, 'fourth': 1446, 'fraction': 1447, 'fragile': 1448, 'frame': 1449, 'frank': 1450, 'frankly': 1451, 'freak': 1452, 'free': 1453, 'freed': 1454, 'freeing': 1455, 'freeze': 1456, 'freezing': 1457, 'frequency': 1458, 'frequent': 1459, 'frequently': 1460, 'fresh': 1461, 'friction': 1462, 'fried': 1463, 'friend': 1464, 'friendliness': 1465, 'friendly': 1466, 'fro': 1467, 'front': 1468, 'frontal': 1469, 'froze': 1470, 'frozen': 1471, 'frustrate': 1472, 'frustration': 1473, 'fudge': 1474, 'fuji': 1475, 'fulfillment': 1476, 'full': 1477, 'fully': 1478, 'fun': 1479, 'function': 1480, 'functional': 1481, 'functionality': 1482, 'fungible': 1483, 'funky': 1484, 'funny': 1485, 'furious': 1486, 'furniture': 1487, 'fury': 1488, 'fuss': 1489, 'fussy': 1490, 'future': 1491, 'futuristic': 1492, 'fuze': 1493, 'fuzzy': 1494, 'g': 1495, 'gadget': 1496, 'gain': 1497, 'gaining': 1498, 'gal': 1499, 'galaxy': 1500, 'gallery': 1501, 'galley': 1502, 'gamble': 1503, 'gambling': 1504, 'game': 1505, 'gaming': 1506, 'gap': 1507, 'garbage': 1508, 'gate': 1509, 'gauge': 1510, 'gauging': 1511, 'gave': 1512, 'gear': 1513, 'gearing': 1514, 'geat': 1515, 'geek': 1516, 'gem': 1517, 'gen': 1518, 'general': 1519, 'generally': 1520, 'generation': 1521, 'generic': 1522, 'generous': 1523, 'genius': 1524, 'gently': 1525, 'genuine': 1526, 'genuinely': 1527, 'gerbil': 1528, 'gesture': 1529, 'get': 1530, 'getting': 1531, 'ghost': 1532, 'giant': 1533, 'gib': 1534, 'gift': 1535, 'gig': 1536, 'gigantic': 1537, 'gin': 1538, 'gingerbread': 1539, 'git': 1540, 'give': 1541, 'given': 1542, 'giving': 1543, 'glad': 1544, 'gladly': 1545, 'glass': 1546, 'glasses': 1547, 'glide': 1548, 'glorify': 1549, 'glowing': 1550, 'glue': 1551, 'glued': 1552, 'go': 1553, 'goal': 1554, 'god': 1555, 'goes': 1556, 'goggled': 1557, 'goi': 1558, 'going': 1559, 'gold': 1560, 'golden': 1561, 'gon': 1562, 'gone': 1563, 'good': 1564, 'goodly': 1565, 'goodness': 1566, 'gosh': 1567, 'got': 1568, 'gotten': 1569, 'grab': 1570, 'grace': 1571, 'gracious': 1572, 'graciously': 1573, 'grade': 1574, 'grand': 1575, 'granddaughter': 1576, 'grandson': 1577, 'graphic': 1578, 'graphical': 1579, 'grass': 1580, 'grat': 1581, 'grateful': 1582, 'gratification': 1583, 'gray': 1584, 'great': 1585, 'greater': 1586, 'greatly': 1587, 'greed': 1588, 'greedy': 1589, 'green': 1590, 'greener': 1591, 'grew': 1592, 'grey': 1593, 'grief': 1594, 'gripe': 1595, 'ground': 1596, 'grout': 1597, 'grow': 1598, 'growing': 1599, 'grown': 1600, 'guarantee': 1601, 'guess': 1602, 'guessing': 1603, 'guide': 1604, 'guilty': 1605, 'guru': 1606, 'gut': 1607, 'guy': 1608, 'gym': 1609, 'h': 1610, 'ha': 1611, 'habit': 1612, 'hack': 1613, 'hair': 1614, 'half': 1615, 'halo': 1616, 'halt': 1617, 'hand': 1618, 'handful': 1619, 'handle': 1620, 'handled': 1621, 'handling': 1622, 'handy': 1623, 'hanging': 1624, 'happen': 1625, 'happening': 1626, 'happier': 1627, 'happily': 1628, 'happy': 1629, 'hard': 1630, 'harder': 1631, 'hardly': 1632, 'hardware': 1633, 'harm': 1634, 'harmoniously': 1635, 'hassle': 1636, 'hasta': 1637, 'hat': 1638, 'hate': 1639, 'havent': 1640, 'head': 1641, 'headache': 1642, 'headline': 1643, 'headphone': 1644, 'headset': 1645, 'heap': 1646, 'hear': 1647, 'heart': 1648, 'heartbeat': 1649, 'heartily': 1650, 'hearts': 1651, 'heat': 1652, 'heating': 1653, 'heavily': 1654, 'heavy': 1655, 'heck': 1656, 'heed': 1657, 'hefty': 1658, 'hell': 1659, 'hello': 1660, 'helmet': 1661, 'help': 1662, 'helpful': 1663, 'helpfully': 1664, 'helping': 1665, 'hence': 1666, 'hero': 1667, 'hesitant': 1668, 'hesitate': 1669, 'hesitation': 1670, 'hey': 1671, 'hi': 1672, 'hiccup': 1673, 'hick': 1674, 'hidden': 1675, 'hide': 1676, 'high': 1677, 'higher': 1678, 'highest': 1679, 'highly': 1680, 'highway': 1681, 'hinder': 1682, 'hint': 1683, 'history': 1684, 'hit': 1685, 'hitch': 1686, 'hoarder': 1687, 'hog': 1688, 'hokey': 1689, 'hold': 1690, 'holder': 1691, 'holding': 1692, 'hole': 1693, 'holiday': 1694, 'home': 1695, 'homemade': 1696, 'homework': 1697, 'honest': 1698, 'honestly': 1699, 'hook': 1700, 'hooked': 1701, 'hoop': 1702, 'hope': 1703, 'hoped': 1704, 'hopeful': 1705, 'hopefully': 1706, 'hopelessly': 1707, 'hopped': 1708, 'horrible': 1709, 'horribly': 1710, 'horrific': 1711, 'horror': 1712, 'horse': 1713, 'host': 1714, 'hosting': 1715, 'hot': 1716, 'hotter': 1717, 'hour': 1718, 'house': 1719, 'housekeeping': 1720, 'housing': 1721, 'however': 1722, 'hub': 1723, 'hubby': 1724, 'huge': 1725, 'hugely': 1726, 'hulk': 1727, 'humidity': 1728, 'hummer': 1729, 'humming': 1730, 'hundred': 1731, 'hunky': 1732, 'hunting': 1733, 'hurry': 1734, 'hurt': 1735, 'hurting': 1736, 'husband': 1737, 'hybrid': 1738, 'ice': 1739, 'icon': 1740, 'id': 1741, 'idea': 1742, 'ideal': 1743, 'ideally': 1744, 'identical': 1745, 'identify': 1746, 'identity': 1747, 'idiot': 1748, 'idiotic': 1749, 'ie': 1750, 'iffy': 1751, 'ignorance': 1752, 'ignore': 1753, 'ill': 1754, 'image': 1755, 'imagine': 1756, 'imitation': 1757, 'immediate': 1758, 'immediately': 1759, 'immense': 1760, 'import': 1761, 'important': 1762, 'importantly': 1763, 'importer': 1764, 'impossible': 1765, 'impress': 1766, 'impression': 1767, 'impressive': 1768, 'improper': 1769, 'improve': 1770, 'improvement': 1771, 'improving': 1772, 'inability': 1773, 'inaccessible': 1774, 'inaccurate': 1775, 'inadequate': 1776, 'inadvertently': 1777, 'inappropriate': 1778, 'incapable': 1779, 'incase': 1780, 'incentive': 1781, 'inch': 1782, 'incident': 1783, 'include': 1784, 'included': 1785, 'incompatibility': 1786, 'incompatible': 1787, 'inconsistent': 1788, 'inconvenience': 1789, 'inconvenient': 1790, 'incorrect': 1791, 'incorrectly': 1792, 'increase': 1793, 'increasing': 1794, 'incredible': 1795, 'incredibly': 1796, 'increment': 1797, 'indeed': 1798, 'index': 1799, 'indexed': 1800, 'indicate': 1801, 'indication': 1802, 'indirectly': 1803, 'indistinguishable': 1804, 'individual': 1805, 'industry': 1806, 'inevitable': 1807, 'inevitably': 1808, 'inexcusable': 1809, 'inexpensive': 1810, 'inexpensively': 1811, 'inexplicably': 1812, 'inferior': 1813, 'infinity': 1814, 'inflated': 1815, 'inflation': 1816, 'inform': 1817, 'informal': 1818, 'information': 1819, 'informed': 1820, 'ing': 1821, 'inherent': 1822, 'initial': 1823, 'initialize': 1824, 'initially': 1825, 'ink': 1826, 'inland': 1827, 'innovation': 1828, 'input': 1829, 'insane': 1830, 'insert': 1831, 'inserted': 1832, 'insertion': 1833, 'inside': 1834, 'insist': 1835, 'inspire': 1836, 'inspiring': 1837, 'instability': 1838, 'install': 1839, 'installation': 1840, 'instance': 1841, 'instant': 1842, 'instantaneous': 1843, 'instantaneously': 1844, 'instantly': 1845, 'instead': 1846, 'instructed': 1847, 'instruction': 1848, 'instructional': 1849, 'insufficient': 1850, 'insurance': 1851, 'intact': 1852, 'integrity': 1853, 'intend': 1854, 'intended': 1855, 'intense': 1856, 'intensive': 1857, 'intensively': 1858, 'intent': 1859, 'intention': 1860, 'intentionally': 1861, 'interaction': 1862, 'interactive': 1863, 'interchange': 1864, 'interchangeable': 1865, 'interest': 1866, 'interested': 1867, 'interesting': 1868, 'interestingly': 1869, 'interface': 1870, 'intermediate': 1871, 'intermittent': 1872, 'intermittently': 1873, 'internal': 1874, 'internally': 1875, 'internals': 1876, 'international': 1877, 'internationally': 1878, 'interval': 1879, 'intrusion': 1880, 'invaluable': 1881, 'invention': 1882, 'inventory': 1883, 'invest': 1884, 'investigate': 1885, 'investigation': 1886, 'investment': 1887, 'invisible': 1888, 'invoice': 1889, 'involve': 1890, 'involved': 1891, 'io': 1892, 'ion': 1893, 'irreplaceable': 1894, 'irresistible': 1895, 'island': 1896, 'isolated': 1897, 'isolating': 1898, 'issue': 1899, 'issuing': 1900, 'item': 1901, 'j': 1902, 'jar': 1903, 'jelly': 1904, 'jeopardize': 1905, 'jerk': 1906, 'jerky': 1907, 'jerry': 1908, 'jiggle': 1909, 'jinx': 1910, 'job': 1911, 'join': 1912, 'joke': 1913, 'joy': 1914, 'judge': 1915, 'judgment': 1916, 'jukebox': 1917, 'jumble': 1918, 'jump': 1919, 'june': 1920, 'junior': 1921, 'junk': 1922, 'justification': 1923, 'justify': 1924, 'juvenile': 1925, 'k': 1926, 'keep': 1927, 'keeping': 1928, 'kept': 1929, 'kernel': 1930, 'key': 1931, 'keyboard': 1932, 'kick': 1933, 'kicker': 1934, 'kicking': 1935, 'kill': 1936, 'killer': 1937, 'killing': 1938, 'kind': 1939, 'kindle': 1940, 'kit': 1941, 'kitchen': 1942, 'kitten': 1943, 'knew': 1944, 'knife': 1945, 'knitting': 1946, 'knock': 1947, 'knockoff': 1948, 'know': 1949, 'knowing': 1950, 'knowingly': 1951, 'knowledge': 1952, 'knowledgeable': 1953, 'known': 1954, 'kodak': 1955, 'kudos': 1956, 'l': 1957, 'la': 1958, 'lab': 1959, 'label': 1960, 'lack': 1961, 'ladies': 1962, 'lag': 1963, 'lagging': 1964, 'lamp': 1965, 'lan': 1966, 'land': 1967, 'landlord': 1968, 'lap': 1969, 'lapse': 1970, 'large': 1971, 'largely': 1972, 'last': 1973, 'lasting': 1974, 'lastly': 1975, 'latching': 1976, 'late': 1977, 'lately': 1978, 'latent': 1979, 'later': 1980, 'latest': 1981, 'latter': 1982, 'laughable': 1983, 'laughably': 1984, 'launch': 1985, 'launcher': 1986, 'law': 1987, 'lawn': 1988, 'lay': 1989, 'laying': 1990, 'layman': 1991, 'laziness': 1992, 'lazy': 1993, 'lead': 1994, 'leader': 1995, 'leading': 1996, 'leap': 1997, 'learn': 1998, 'learned': 1999, 'learning': 2000, 'least': 2001, 'leave': 2002, 'leaves': 2003, 'leaving': 2004, 'led': 2005, 'leery': 2006, 'left': 2007, 'leg': 2008, 'legacy': 2009, 'legend': 2010, 'legged': 2011, 'legit': 2012, 'legitimate': 2013, 'lemon': 2014, 'length': 2015, 'lengthy': 2016, 'lens': 2017, 'less': 2018, 'lesser': 2019, 'lesson': 2020, 'let': 2021, 'level': 2022, 'lever': 2023, 'leverage': 2024, 'library': 2025, 'lie': 2026, 'lieu': 2027, 'life': 2028, 'lifetime': 2029, 'light': 2030, 'lighter': 2031, 'lighting': 2032, 'lightning': 2033, 'lightweight': 2034, 'like': 2035, 'likely': 2036, 'likewise': 2037, 'liking': 2038, 'limit': 2039, 'limitation': 2040, 'limited': 2041, 'limiting': 2042, 'limitless': 2043, 'line': 2044, 'linear': 2045, 'link': 2046, 'links': 2047, 'lip': 2048, 'liquid': 2049, 'list': 2050, 'listed': 2051, 'listen': 2052, 'listener': 2053, 'listening': 2054, 'listing': 2055, 'literally': 2056, 'literature': 2057, 'little': 2058, 'live': 2059, 'lived': 2060, 'living': 2061, 'lo': 2062, 'load': 2063, 'loaded': 2064, 'loading': 2065, 'local': 2066, 'locally': 2067, 'locate': 2068, 'location': 2069, 'lock': 2070, 'locked': 2071, 'locking': 2072, 'logged': 2073, 'logging': 2074, 'logically': 2075, 'long': 2076, 'longer': 2077, 'longevity': 2078, 'longing': 2079, 'look': 2080, 'looking': 2081, 'looney': 2082, 'loop': 2083, 'looping': 2084, 'loose': 2085, 'loosing': 2086, 'lose': 2087, 'loser': 2088, 'losing': 2089, 'loss': 2090, 'lossless': 2091, 'lost': 2092, 'lot': 2093, 'lots': 2094, 'lousy': 2095, 'love': 2096, 'lovely': 2097, 'lover': 2098, 'loving': 2099, 'low': 2100, 'lower': 2101, 'lowering': 2102, 'luck': 2103, 'luckily': 2104, 'lucky': 2105, 'lucrative': 2106, 'luggage': 2107, 'luxury': 2108, 'lying': 2109, 'lynx': 2110, 'mac': 2111, 'machine': 2112, 'macro': 2113, 'mad': 2114, 'made': 2115, 'magic': 2116, 'magically': 2117, 'magnet': 2118, 'maiden': 2119, 'mail': 2120, 'mailbox': 2121, 'mailed': 2122, 'main': 2123, 'mainly': 2124, 'maintenance': 2125, 'major': 2126, 'majority': 2127, 'make': 2128, 'making': 2129, 'mal': 2130, 'maleness': 2131, 'malfunction': 2132, 'man': 2133, 'manage': 2134, 'management': 2135, 'manager': 2136, 'manga': 2137, 'mani': 2138, 'manipulate': 2139, 'manner': 2140, 'manual': 2141, 'manually': 2142, 'manufacture': 2143, 'manufacturer': 2144, 'many': 2145, 'map': 2146, 'march': 2147, 'marginal': 2148, 'mark': 2149, 'marked': 2150, 'marker': 2151, 'market': 2152, 'marketing': 2153, 'marking': 2154, 'marquee': 2155, 'marry': 2156, 'mart': 2157, 'marvel': 2158, 'marvelous': 2159, 'mas': 2160, 'mass': 2161, 'massive': 2162, 'master': 2163, 'match': 2164, 'matching': 2165, 'material': 2166, 'matter': 2167, 'maximize': 2168, 'maximum': 2169, 'may': 2170, 'maybe': 2171, 'meager': 2172, 'mean': 2173, 'meaning': 2174, 'meant': 2175, 'meanwhile': 2176, 'measure': 2177, 'measured': 2178, 'measuring': 2179, 'meaty': 2180, 'mechanical': 2181, 'mechanically': 2182, 'media': 2183, 'mediocre': 2184, 'medium': 2185, 'meet': 2186, 'meeting': 2187, 'melted': 2188, 'melting': 2189, 'mem': 2190, 'member': 2191, 'membership': 2192, 'memo': 2193, 'memoria': 2194, 'memory': 2195, 'mention': 2196, 'menu': 2197, 'mere': 2198, 'merely': 2199, 'merrily': 2200, 'merry': 2201, 'mess': 2202, 'message': 2203, 'messing': 2204, 'met': 2205, 'metal': 2206, 'metallic': 2207, 'method': 2208, 'metric': 2209, 'mi': 2210, 'micro': 2211, 'microphone': 2212, 'mid': 2213, 'middle': 2214, 'midland': 2215, 'might': 2216, 'mighty': 2217, 'migrate': 2218, 'mile': 2219, 'mileage': 2220, 'million': 2221, 'millions': 2222, 'millisecond': 2223, 'min': 2224, 'mind': 2225, 'minded': 2226, 'mindless': 2227, 'mine': 2228, 'minimal': 2229, 'minimize': 2230, 'minimum': 2231, 'minor': 2232, 'minus': 2233, 'minute': 2234, 'miser': 2235, 'misleading': 2236, 'misplace': 2237, 'miss': 2238, 'missing': 2239, 'mission': 2240, 'misstate': 2241, 'mistake': 2242, 'mistaken': 2243, 'mistakenly': 2244, 'misuse': 2245, 'mix': 2246, 'mixed': 2247, 'mo': 2248, 'mobile': 2249, 'moble': 2250, 'mode': 2251, 'model': 2252, 'moderate': 2253, 'modern': 2254, 'modest': 2255, 'modify': 2256, 'module': 2257, 'moist': 2258, 'moment': 2259, 'momentary': 2260, 'money': 2261, 'monitor': 2262, 'monster': 2263, 'montana': 2264, 'month': 2265, 'mood': 2266, 'moot': 2267, 'moreover': 2268, 'morgan': 2269, 'morning': 2270, 'morrow': 2271, 'mortar': 2272, 'mostly': 2273, 'mother': 2274, 'motion': 2275, 'motivation': 2276, 'mount': 2277, 'mounted': 2278, 'mounting': 2279, 'move': 2280, 'movement': 2281, 'movie': 2282, 'moving': 2283, 'mowing': 2284, 'mu': 2285, 'much': 2286, 'multiple': 2287, 'mush': 2288, 'music': 2289, 'muss': 2290, 'must': 2291, 'mysterious': 2292, 'mysteriously': 2293, 'n': 2294, 'na': 2295, 'nail': 2296, 'name': 2297, 'naming': 2298, 'nan': 2299, 'nasty': 2300, 'native': 2301, 'natively': 2302, 'naturally': 2303, 'nature': 2304, 'near': 2305, 'nearly': 2306, 'neat': 2307, 'neatly': 2308, 'necessarily': 2309, 'necessary': 2310, 'necessity': 2311, 'necked': 2312, 'need': 2313, 'needing': 2314, 'needle': 2315, 'needless': 2316, 'needlessly': 2317, 'needs': 2318, 'needy': 2319, 'negative': 2320, 'negligible': 2321, 'neither': 2322, 'nephew': 2323, 'net': 2324, 'network': 2325, 'neutral': 2326, 'never': 2327, 'nevertheless': 2328, 'new': 2329, 'newly': 2330, 'news': 2331, 'next': 2332, 'nexus': 2333, 'nice': 2334, 'nicely': 2335, 'nick': 2336, 'niece': 2337, 'nifty': 2338, 'night': 2339, 'nightly': 2340, 'nine': 2341, 'nit': 2342, 'noble': 2343, 'nobody': 2344, 'nock': 2345, 'noise': 2346, 'nominally': 2347, 'non': 2348, 'none': 2349, 'nonetheless': 2350, 'nonexistent': 2351, 'nonfunctional': 2352, 'nonsense': 2353, 'nonvolatile': 2354, 'nook': 2355, 'nope': 2356, 'norm': 2357, 'normal': 2358, 'normally': 2359, 'north': 2360, 'nose': 2361, 'notable': 2362, 'notch': 2363, 'note': 2364, 'notebook': 2365, 'noted': 2366, 'nothing': 2367, 'notice': 2368, 'noticeable': 2369, 'noticeably': 2370, 'notification': 2371, 'notify': 2372, 'notorious': 2373, 'nova': 2374, 'novice': 2375, 'nowadays': 2376, 'nowhere': 2377, 'nth': 2378, 'nuisance': 2379, 'number': 2380, 'numerical': 2381, 'numero': 2382, 'numerous': 2383, 'nylon': 2384, 'observable': 2385, 'obsolete': 2386, 'obvious': 2387, 'obviously': 2388, 'occasional': 2389, 'occasionally': 2390, 'occur': 2391, 'od': 2392, 'odd': 2393, 'oddity': 2394, 'oddly': 2395, 'odds': 2396, 'offer': 2397, 'offering': 2398, 'office': 2399, 'official': 2400, 'officially': 2401, 'offset': 2402, 'often': 2403, 'oh': 2404, 'old': 2405, 'older': 2406, 'om': 2407, 'one': 2408, 'onion': 2409, 'onto': 2410, 'oodles': 2411, 'open': 2412, 'opener': 2413, 'opening': 2414, 'operate': 2415, 'operating': 2416, 'operation': 2417, 'operator': 2418, 'opinion': 2419, 'opportunity': 2420, 'oppose': 2421, 'opposed': 2422, 'opt': 2423, 'optimal': 2424, 'optimistic': 2425, 'optimization': 2426, 'optimum': 2427, 'option': 2428, 'optional': 2429, 'orange': 2430, 'order': 2431, 'ordered': 2432, 'ordinary': 2433, 'organize': 2434, 'orient': 2435, 'origin': 2436, 'original': 2437, 'originally': 2438, 'ornament': 2439, 'os': 2440, 'oscillating': 2441, 'otherwise': 2442, 'ouch': 2443, 'ought': 2444, 'ounce': 2445, 'outcome': 2446, 'outdoor': 2447, 'outer': 2448, 'outfit': 2449, 'outlast': 2450, 'outlay': 2451, 'outlet': 2452, 'outmoded': 2453, 'output': 2454, 'outrageous': 2455, 'outside': 2456, 'outstanding': 2457, 'overall': 2458, 'overflow': 2459, 'overhead': 2460, 'overnight': 2461, 'overrate': 2462, 'oversaturate': 2463, 'overtime': 2464, 'overuse': 2465, 'overwhelming': 2466, 'overwhelmingly': 2467, 'owner': 2468, 'ownership': 2469, 'p': 2470, 'pace': 2471, 'pack': 2472, 'package': 2473, 'packet': 2474, 'pad': 2475, 'page': 2476, 'pain': 2477, 'painful': 2478, 'painfully': 2479, 'painless': 2480, 'painstaking': 2481, 'paint': 2482, 'painted': 2483, 'pair': 2484, 'paired': 2485, 'pal': 2486, 'palm': 2487, 'pan': 2488, 'panic': 2489, 'panorama': 2490, 'panther': 2491, 'paper': 2492, 'paperweight': 2493, 'par': 2494, 'para': 2495, 'paragon': 2496, 'parallel': 2497, 'paranoid': 2498, 'parcel': 2499, 'parent': 2500, 'parentally': 2501, 'park': 2502, 'part': 2503, 'particular': 2504, 'particularly': 2505, 'partition': 2506, 'partitioned': 2507, 'partitioning': 2508, 'partner': 2509, 'party': 2510, 'pass': 2511, 'password': 2512, 'past': 2513, 'paste': 2514, 'patch': 2515, 'patience': 2516, 'patient': 2517, 'patiently': 2518, 'patriot': 2519, 'pattern': 2520, 'pause': 2521, 'pay': 2522, 'payed': 2523, 'paying': 2524, 'peace': 2525, 'peak': 2526, 'peaking': 2527, 'pebble': 2528, 'peeve': 2529, 'peeved': 2530, 'pen': 2531, 'penalty': 2532, 'penciled': 2533, 'pending': 2534, 'penny': 2535, 'people': 2536, 'peppy': 2537, 'per': 2538, 'percent': 2539, 'percentage': 2540, 'perceptible': 2541, 'perfect': 2542, 'perfected': 2543, 'perfection': 2544, 'perfectly': 2545, 'perform': 2546, 'performance': 2547, 'performer': 2548, 'perhaps': 2549, 'period': 2550, 'periodically': 2551, 'peripheral': 2552, 'permanent': 2553, 'permanently': 2554, 'permit': 2555, 'permitted': 2556, 'person': 2557, 'personal': 2558, 'personally': 2559, 'personnel': 2560, 'pert': 2561, 'pet': 2562, 'phantom': 2563, 'phenomenal': 2564, 'phenomenon': 2565, 'phone': 2566, 'phony': 2567, 'photo': 2568, 'photograph': 2569, 'photographer': 2570, 'photographic': 2571, 'photography': 2572, 'photon': 2573, 'phrase': 2574, 'physical': 2575, 'physically': 2576, 'pi': 2577, 'pic': 2578, 'pice': 2579, 'pick': 2580, 'picked': 2581, 'pickup': 2582, 'picky': 2583, 'pico': 2584, 'picture': 2585, 'pictured': 2586, 'pidgin': 2587, 'piece': 2588, 'piling': 2589, 'pilot': 2590, 'pinch': 2591, 'pinched': 2592, 'pined': 2593, 'pinky': 2594, 'pioneer': 2595, 'piping': 2596, 'pita': 2597, 'pittance': 2598, 'pix': 2599, 'place': 2600, 'plain': 2601, 'plan': 2602, 'plane': 2603, 'plaque': 2604, 'plastic': 2605, 'plate': 2606, 'platform': 2607, 'platic': 2608, 'play': 2609, 'playable': 2610, 'playback': 2611, 'player': 2612, 'pleasant': 2613, 'pleasantly': 2614, 'please': 2615, 'pleasurable': 2616, 'pleasure': 2617, 'plentiful': 2618, 'plenty': 2619, 'plethora': 2620, 'pliers': 2621, 'plug': 2622, 'plugged': 2623, 'plugging': 2624, 'plunge': 2625, 'plus': 2626, 'ply': 2627, 'po': 2628, 'pocket': 2629, 'point': 2630, 'pointed': 2631, 'pointing': 2632, 'policy': 2633, 'polish': 2634, 'pone': 2635, 'poor': 2636, 'poorly': 2637, 'pop': 2638, 'popular': 2639, 'populate': 2640, 'port': 2641, 'portability': 2642, 'portable': 2643, 'portal': 2644, 'portion': 2645, 'position': 2646, 'positive': 2647, 'possibility': 2648, 'possible': 2649, 'possibly': 2650, 'post': 2651, 'postage': 2652, 'posted': 2653, 'potential': 2654, 'potentially': 2655, 'pour': 2656, 'pout': 2657, 'power': 2658, 'powered': 2659, 'powerful': 2660, 'powerhouse': 2661, 'practical': 2662, 'practically': 2663, 'practice': 2664, 'praise': 2665, 'prance': 2666, 'precious': 2667, 'precise': 2668, 'precision': 2669, 'predecessor': 2670, 'predictably': 2671, 'prefer': 2672, 'preferably': 2673, 'preferred': 2674, 'preform': 2675, 'premature': 2676, 'prematurely': 2677, 'premier': 2678, 'premium': 2679, 'prep': 2680, 'preparation': 2681, 'prepare': 2682, 'prepared': 2683, 'present': 2684, 'presentation': 2685, 'presently': 2686, 'press': 2687, 'pressure': 2688, 'presto': 2689, 'presume': 2690, 'pretend': 2691, 'pretty': 2692, 'prevail': 2693, 'prevent': 2694, 'preview': 2695, 'previous': 2696, 'previously': 2697, 'price': 2698, 'priced': 2699, 'priceless': 2700, 'primarily': 2701, 'primary': 2702, 'prime': 2703, 'print': 2704, 'printed': 2705, 'printer': 2706, 'printing': 2707, 'prior': 2708, 'prism': 2709, 'private': 2710, 'pro': 2711, 'prob': 2712, 'probability': 2713, 'probably': 2714, 'probe': 2715, 'problem': 2716, 'problematic': 2717, 'procedure': 2718, 'process': 2719, 'processor': 2720, 'proclaim': 2721, 'procrastinate': 2722, 'proctologist': 2723, 'produce': 2724, 'produced': 2725, 'producer': 2726, 'product': 2727, 'production': 2728, 'professional': 2729, 'profile': 2730, 'profit': 2731, 'program': 2732, 'progress': 2733, 'prohibitive': 2734, 'project': 2735, 'prolific': 2736, 'promise': 2737, 'promotion': 2738, 'promotional': 2739, 'prompt': 2740, 'promptly': 2741, 'promptness': 2742, 'prone': 2743, 'proof': 2744, 'proofing': 2745, 'proper': 2746, 'properly': 2747, 'proprietary': 2748, 'props': 2749, 'protect': 2750, 'protection': 2751, 'protective': 2752, 'protocol': 2753, 'prove': 2754, 'proved': 2755, 'proven': 2756, 'provide': 2757, 'provided': 2758, 'provider': 2759, 'providing': 2760, 'pry': 2761, 'public': 2762, 'pull': 2763, 'pun': 2764, 'punch': 2765, 'punishment': 2766, 'puny': 2767, 'puppy': 2768, 'purchase': 2769, 'pure': 2770, 'purging': 2771, 'purpose': 2772, 'purposely': 2773, 'purse': 2774, 'pus': 2775, 'push': 2776, 'pushing': 2777, 'put': 2778, 'pyramid': 2779, 'q': 2780, 'quad': 2781, 'quadrant': 2782, 'qualify': 2783, 'quality': 2784, 'quarter': 2785, 'question': 2786, 'questionable': 2787, 'quick': 2788, 'quickly': 2789, 'quickness': 2790, 'quit': 2791, 'quite': 2792, 'quote': 2793, 'r': 2794, 'race': 2795, 'rack': 2796, 'radio': 2797, 'raid': 2798, 'rainy': 2799, 'raise': 2800, 'raised': 2801, 'ram': 2802, 'ran': 2803, 'random': 2804, 'randomly': 2805, 'range': 2806, 'ranged': 2807, 'ranging': 2808, 'rant': 2809, 'rapid': 2810, 'rare': 2811, 'rarely': 2812, 'raspberry': 2813, 'rate': 2814, 'rated': 2815, 'rather': 2816, 'rating': 2817, 'ratio': 2818, 'rave': 2819, 'raw': 2820, 'ray': 2821, 'razor': 2822, 'reach': 2823, 'read': 2824, 'readable': 2825, 'reader': 2826, 'readily': 2827, 'reading': 2828, 'ready': 2829, 'real': 2830, 'realistically': 2831, 'reality': 2832, 'realization': 2833, 'realize': 2834, 'realizing': 2835, 'really': 2836, 'realm': 2837, 'reason': 2838, 'reasonable': 2839, 'reasonably': 2840, 'reasoning': 2841, 'reassemble': 2842, 'recall': 2843, 'receipt': 2844, 'receive': 2845, 'received': 2846, 'recent': 2847, 'recently': 2848, 'reception': 2849, 'recognition': 2850, 'recognizable': 2851, 'recognize': 2852, 'recommand': 2853, 'recommend': 2854, 'recommendation': 2855, 'reconnect': 2856, 'reconsider': 2857, 'record': 2858, 'recorder': 2859, 'recording': 2860, 'recourse': 2861, 'recover': 2862, 'recoverable': 2863, 'recovery': 2864, 'recurrent': 2865, 'recycle': 2866, 'red': 2867, 'redirect': 2868, 'reduced': 2869, 'reducing': 2870, 'redundancy': 2871, 'redundant': 2872, 'ref': 2873, 'refer': 2874, 'reference': 2875, 'reflect': 2876, 'reflection': 2877, 'refresh': 2878, 'refund': 2879, 'refuse': 2880, 'refusing': 2881, 'reg': 2882, 'regard': 2883, 'regarding': 2884, 'regardless': 2885, 'region': 2886, 'regional': 2887, 'register': 2888, 'regressive': 2889, 'regret': 2890, 'regular': 2891, 'regularity': 2892, 'regularly': 2893, 'reinsert': 2894, 'reinstall': 2895, 'related': 2896, 'relative': 2897, 'relatively': 2898, 'relay': 2899, 'release': 2900, 'relevant': 2901, 'reliability': 2902, 'reliable': 2903, 'reliably': 2904, 'relief': 2905, 'relieved': 2906, 'relive': 2907, 'reluctant': 2908, 'rely': 2909, 'remain': 2910, 'remains': 2911, 'remap': 2912, 'remark': 2913, 'remarkable': 2914, 'remarkably': 2915, 'remember': 2916, 'remind': 2917, 'remote': 2918, 'remount': 2919, 'removable': 2920, 'removal': 2921, 'remove': 2922, 'removed': 2923, 'removing': 2924, 'rendering': 2925, 'rendition': 2926, 'rent': 2927, 'reorder': 2928, 'rep': 2929, 'repack': 2930, 'repair': 2931, 'repartition': 2932, 'repeat': 2933, 'repeated': 2934, 'repeatedly': 2935, 'replace': 2936, 'replaceable': 2937, 'replacement': 2938, 'replay': 2939, 'reply': 2940, 'report': 2941, 'reportedly': 2942, 'representation': 2943, 'representative': 2944, 'reps': 2945, 'republic': 2946, 'reputable': 2947, 'reputation': 2948, 'reputed': 2949, 'require': 2950, 'requirement': 2951, 'reschedule': 2952, 'rescue': 2953, 'research': 2954, 'reseat': 2955, 'reservation': 2956, 'reserve': 2957, 'reserved': 2958, 'reset': 2959, 'reside': 2960, 'resilient': 2961, 'resist': 2962, 'resistance': 2963, 'resistant': 2964, 'resize': 2965, 'resolution': 2966, 'resolve': 2967, 'resolved': 2968, 'resort': 2969, 'resource': 2970, 'respectable': 2971, 'respective': 2972, 'respectively': 2973, 'respond': 2974, 'response': 2975, 'responsibility': 2976, 'responsible': 2977, 'responsive': 2978, 'responsiveness': 2979, 'rest': 2980, 'restart': 2981, 'restore': 2982, 'result': 2983, 'resulting': 2984, 'resume': 2985, 'retail': 2986, 'retailer': 2987, 'retarded': 2988, 'retina': 2989, 'retrieval': 2990, 'retrieve': 2991, 'return': 2992, 'returned': 2993, 'revealed': 2994, 'reverb': 2995, 'reversed': 2996, 'revert': 2997, 'review': 2998, 'reviewer': 2999, 'revise': 3000, 'revision': 3001, 'revisit': 3002, 'rich': 3003, 'rid': 3004, 'ride': 3005, 'ridge': 3006, 'ridiculous': 3007, 'ridiculously': 3008, 'riding': 3009, 'rig': 3010, 'right': 3011, 'ring': 3012, 'rip': 3013, 'rise': 3014, 'risk': 3015, 'risky': 3016, 'rite': 3017, 'road': 3018, 'roam': 3019, 'rob': 3020, 'robbery': 3021, 'rock': 3022, 'rocket': 3023, 'rocking': 3024, 'roi': 3025, 'role': 3026, 'roll': 3027, 'rolled': 3028, 'rolling': 3029, 'room': 3030, 'roomy': 3031, 'root': 3032, 'rooted': 3033, 'rotate': 3034, 'roughly': 3035, 'round': 3036, 'route': 3037, 'routinely': 3038, 'row': 3039, 'rub': 3040, 'rubbish': 3041, 'ruin': 3042, 'ruined': 3043, 'rule': 3044, 'run': 3045, 'running': 3046, 'rush': 3047, 'sacrificing': 3048, 'sad': 3049, 'sadly': 3050, 'safe': 3051, 'safely': 3052, 'safety': 3053, 'said': 3054, 'sailing': 3055, 'sale': 3056, 'salt': 3057, 'salvage': 3058, 'salvageable': 3059, 'sam': 3060, 'sammy': 3061, 'sample': 3062, 'san': 3063, 'sand': 3064, 'sanded': 3065, 'sandwich': 3066, 'sat': 3067, 'satisfaction': 3068, 'satisfactory': 3069, 'satisfied': 3070, 'satisfy': 3071, 'satisfying': 3072, 'save': 3073, 'saved': 3074, 'saver': 3075, 'saving': 3076, 'savvy': 3077, 'saw': 3078, 'say': 3079, 'saying': 3080, 'scads': 3081, 'scalding': 3082, 'scam': 3083, 'scan': 3084, 'scanner': 3085, 'scanning': 3086, 'scary': 3087, 'scenario': 3088, 'schedule': 3089, 'school': 3090, 'science': 3091, 'scientifically': 3092, 'scissors': 3093, 'scotch': 3094, 'scouting': 3095, 'scratch': 3096, 'scream': 3097, 'screaming': 3098, 'screen': 3099, 'screened': 3100, 'screw': 3101, 'screwed': 3102, 'screwing': 3103, 'scroll': 3104, 'se': 3105, 'sealed': 3106, 'seamless': 3107, 'seamlessly': 3108, 'search': 3109, 'searching': 3110, 'season': 3111, 'seated': 3112, 'sec': 3113, 'second': 3114, 'secondary': 3115, 'secondly': 3116, 'secret': 3117, 'section': 3118, 'secure': 3119, 'securely': 3120, 'security': 3121, 'see': 3122, 'seeing': 3123, 'seek': 3124, 'seem': 3125, 'seemingly': 3126, 'seemless': 3127, 'seen': 3128, 'segment': 3129, 'seldom': 3130, 'select': 3131, 'selected': 3132, 'selection': 3133, 'self': 3134, 'sell': 3135, 'seller': 3136, 'selling': 3137, 'semi': 3138, 'send': 3139, 'sending': 3140, 'sensation': 3141, 'sense': 3142, 'sensible': 3143, 'sensitive': 3144, 'sent': 3145, 'sentence': 3146, 'separate': 3147, 'separately': 3148, 'separates': 3149, 'sequence': 3150, 'sequential': 3151, 'ser': 3152, 'serial': 3153, 'series': 3154, 'serious': 3155, 'seriously': 3156, 'sero': 3157, 'serve': 3158, 'server': 3159, 'service': 3160, 'session': 3161, 'sessions': 3162, 'set': 3163, 'setting': 3164, 'settle': 3165, 'settled': 3166, 'settling': 3167, 'setup': 3168, 'seven': 3169, 'several': 3170, 'severe': 3171, 'sh': 3172, 'shack': 3173, 'shake': 3174, 'shakedown': 3175, 'shaking': 3176, 'shall': 3177, 'shallow': 3178, 'shame': 3179, 'shampoo': 3180, 'shape': 3181, 'share': 3182, 'sharp': 3183, 'sharper': 3184, 'shatterproof': 3185, 'shed': 3186, 'sheer': 3187, 'sheet': 3188, 'shell': 3189, 'shield': 3190, 'shiny': 3191, 'ship': 3192, 'shipment': 3193, 'shipped': 3194, 'shipping': 3195, 'shock': 3196, 'shocker': 3197, 'shockproof': 3198, 'shoot': 3199, 'shooting': 3200, 'shop': 3201, 'shoplifting': 3202, 'shopper': 3203, 'shopping': 3204, 'short': 3205, 'shortcoming': 3206, 'shorten': 3207, 'shortly': 3208, 'shot': 3209, 'shoulder': 3210, 'shove': 3211, 'show': 3212, 'showing': 3213, 'shown': 3214, 'shrink': 3215, 'shuffling': 3216, 'shut': 3217, 'shutdown': 3218, 'shutter': 3219, 'shuttle': 3220, 'shy': 3221, 'side': 3222, 'sidenote': 3223, 'sides': 3224, 'sie': 3225, 'sigh': 3226, 'sign': 3227, 'signal': 3228, 'significant': 3229, 'significantly': 3230, 'silicon': 3231, 'silk': 3232, 'silly': 3233, 'silver': 3234, 'similar': 3235, 'similarly': 3236, 'simple': 3237, 'simpler': 3238, 'simplicity': 3239, 'simply': 3240, 'simultaneous': 3241, 'simultaneously': 3242, 'since': 3243, 'sincerely': 3244, 'single': 3245, 'sip': 3246, 'sister': 3247, 'sit': 3248, 'site': 3249, 'sitting': 3250, 'situation': 3251, 'six': 3252, 'sizable': 3253, 'size': 3254, 'sized': 3255, 'sizes': 3256, 'skeptical': 3257, 'skepticism': 3258, 'sketchy': 3259, 'ski': 3260, 'skiing': 3261, 'skill': 3262, 'skim': 3263, 'skimp': 3264, 'skimpy': 3265, 'skip': 3266, 'skipping': 3267, 'sky': 3268, 'skyrocket': 3269, 'slack': 3270, 'slacking': 3271, 'slam': 3272, 'slate': 3273, 'sleek': 3274, 'sleeve': 3275, 'sliced': 3276, 'slick': 3277, 'slid': 3278, 'slide': 3279, 'slided': 3280, 'slider': 3281, 'slight': 3282, 'slightly': 3283, 'sliminess': 3284, 'slimy': 3285, 'slip': 3286, 'slipped': 3287, 'slot': 3288, 'slouch': 3289, 'slow': 3290, 'slowdown': 3291, 'slowly': 3292, 'slows': 3293, 'sluggishness': 3294, 'small': 3295, 'smaller': 3296, 'smart': 3297, 'smashing': 3298, 'smile': 3299, 'smoking': 3300, 'smooth': 3301, 'smoother': 3302, 'smoothly': 3303, 'snagged': 3304, 'snap': 3305, 'snapped': 3306, 'snapping': 3307, 'snappy': 3308, 'snaps': 3309, 'snapshot': 3310, 'snatched': 3311, 'sneaker': 3312, 'sneaky': 3313, 'sneeze': 3314, 'snow': 3315, 'snugly': 3316, 'soaked': 3317, 'solar': 3318, 'sold': 3319, 'sole': 3320, 'solid': 3321, 'solo': 3322, 'solution': 3323, 'solve': 3324, 'somebody': 3325, 'someday': 3326, 'somehow': 3327, 'someone': 3328, 'something': 3329, 'sometime': 3330, 'sometimes': 3331, 'somewhat': 3332, 'somewhere': 3333, 'son': 3334, 'song': 3335, 'sons': 3336, 'soon': 3337, 'sooner': 3338, 'sorage': 3339, 'sorcery': 3340, 'sorely': 3341, 'sorry': 3342, 'sort': 3343, 'sought': 3344, 'sound': 3345, 'sour': 3346, 'source': 3347, 'south': 3348, 'southern': 3349, 'space': 3350, 'spacious': 3351, 'spare': 3352, 'spark': 3353, 'speak': 3354, 'speaker': 3355, 'speaking': 3356, 'spear': 3357, 'spec': 3358, 'special': 3359, 'specialized': 3360, 'specially': 3361, 'specific': 3362, 'specifically': 3363, 'specification': 3364, 'specify': 3365, 'specs': 3366, 'spectacular': 3367, 'sped': 3368, 'speed': 3369, 'speedy': 3370, 'spell': 3371, 'speller': 3372, 'spend': 3373, 'spending': 3374, 'spent': 3375, 'spin': 3376, 'spitting': 3377, 'splendidly': 3378, 'splurge': 3379, 'spoke': 3380, 'spoken': 3381, 'spontaneously': 3382, 'sport': 3383, 'sports': 3384, 'spot': 3385, 'spotty': 3386, 'spouse': 3387, 'spread': 3388, 'spring': 3389, 'springtime': 3390, 'sprint': 3391, 'sprung': 3392, 'sputtering': 3393, 'spy': 3394, 'squad': 3395, 'square': 3396, 'squealing': 3397, 'squeeze': 3398, 'st': 3399, 'stability': 3400, 'stable': 3401, 'stage': 3402, 'stall': 3403, 'stalling': 3404, 'stamp': 3405, 'stand': 3406, 'standard': 3407, 'standardize': 3408, 'standing': 3409, 'stanza': 3410, 'star': 3411, 'stare': 3412, 'start': 3413, 'starting': 3414, 'stash': 3415, 'state': 3416, 'stated': 3417, 'static': 3418, 'station': 3419, 'status': 3420, 'stay': 3421, 'stayed': 3422, 'stays': 3423, 'steadily': 3424, 'steady': 3425, 'steal': 3426, 'stealing': 3427, 'steam': 3428, 'steel': 3429, 'steep': 3430, 'steer': 3431, 'stellar': 3432, 'stench': 3433, 'step': 3434, 'stepdaughter': 3435, 'stereo': 3436, 'stick': 3437, 'sticker': 3438, 'sticking': 3439, 'sticks': 3440, 'still': 3441, 'stock': 3442, 'stocking': 3443, 'stolen': 3444, 'stone': 3445, 'stood': 3446, 'stop': 3447, 'stoppage': 3448, 'stopped': 3449, 'stopping': 3450, 'storage': 3451, 'store': 3452, 'storm': 3453, 'story': 3454, 'straight': 3455, 'straightforward': 3456, 'strange': 3457, 'strap': 3458, 'stratosphere': 3459, 'stream': 3460, 'streamer': 3461, 'streaming': 3462, 'strength': 3463, 'stress': 3464, 'stretch': 3465, 'strict': 3466, 'strictly': 3467, 'stringent': 3468, 'stripe': 3469, 'strong': 3470, 'strongly': 3471, 'structure': 3472, 'stuck': 3473, 'studio': 3474, 'stuff': 3475, 'stuffed': 3476, 'stuffer': 3477, 'stunning': 3478, 'stunt': 3479, 'stupid': 3480, 'sturdy': 3481, 'stutter': 3482, 'stuttering': 3483, 'style': 3484, 'stylish': 3485, 'sub': 3486, 'subdivision': 3487, 'subject': 3488, 'submersion': 3489, 'subscribe': 3490, 'subsequently': 3491, 'substandard': 3492, 'substantial': 3493, 'substantially': 3494, 'substitute': 3495, 'subtract': 3496, 'succeed': 3497, 'success': 3498, 'successful': 3499, 'successfully': 3500, 'suck': 3501, 'sudden': 3502, 'suddenly': 3503, 'suffer': 3504, 'suffering': 3505, 'suffice': 3506, 'sufficient': 3507, 'suggest': 3508, 'suggesting': 3509, 'suggestion': 3510, 'suicidal': 3511, 'suing': 3512, 'suit': 3513, 'suitable': 3514, 'suite': 3515, 'suiting': 3516, 'sum': 3517, 'summary': 3518, 'summer': 3519, 'summery': 3520, 'sun': 3521, 'sung': 3522, 'sup': 3523, 'super': 3524, 'superb': 3525, 'superbly': 3526, 'superior': 3527, 'supermarket': 3528, 'supplement': 3529, 'supplemental': 3530, 'supplier': 3531, 'supply': 3532, 'support': 3533, 'supporting': 3534, 'suppose': 3535, 'supposed': 3536, 'supposedly': 3537, 'supreme': 3538, 'sure': 3539, 'surely': 3540, 'surf': 3541, 'surface': 3542, 'surgery': 3543, 'surpass': 3544, 'surprise': 3545, 'surprising': 3546, 'surprisingly': 3547, 'surveillance': 3548, 'survive': 3549, 'surviving': 3550, 'susceptible': 3551, 'suspect': 3552, 'suspected': 3553, 'suspicion': 3554, 'suspicious': 3555, 'sustain': 3556, 'sustained': 3557, 'swap': 3558, 'swapping': 3559, 'sway': 3560, 'swayed': 3561, 'sweat': 3562, 'sweet': 3563, 'sweetie': 3564, 'swell': 3565, 'swim': 3566, 'swipe': 3567, 'switch': 3568, 'switched': 3569, 'switching': 3570, 'swore': 3571, 'sync': 3572, 'synonym': 3573, 'system': 3574, 'ta': 3575, 'tab': 3576, 'table': 3577, 'tables': 3578, 'tablet': 3579, 'tactical': 3580, 'tag': 3581, 'take': 3582, 'taken': 3583, 'taking': 3584, 'talk': 3585, 'talking': 3586, 'tandem': 3587, 'tape': 3588, 'tapping': 3589, 'target': 3590, 'targeted': 3591, 'task': 3592, 'tax': 3593, 'taxi': 3594, 'team': 3595, 'tech': 3596, 'technical': 3597, 'technically': 3598, 'technique': 3599, 'technological': 3600, 'technology': 3601, 'techy': 3602, 'teen': 3603, 'telephone': 3604, 'tell': 3605, 'telling': 3606, 'temp': 3607, 'temper': 3608, 'temperature': 3609, 'temporary': 3610, 'ten': 3611, 'tend': 3612, 'term': 3613, 'terminal': 3614, 'terrible': 3615, 'terribly': 3616, 'terrific': 3617, 'territory': 3618, 'test': 3619, 'tested': 3620, 'tester': 3621, 'testing': 3622, 'text': 3623, 'th': 3624, 'tha': 3625, 'thank': 3626, 'thankfully': 3627, 'thanks': 3628, 'thanksgiving': 3629, 'thats': 3630, 'theft': 3631, 'theoretical': 3632, 'theoretically': 3633, 'thereafter': 3634, 'therefore': 3635, 'thereon': 3636, 'theres': 3637, 'theyre': 3638, 'thick': 3639, 'thin': 3640, 'thing': 3641, 'think': 3642, 'thinking': 3643, 'thinner': 3644, 'third': 3645, 'tho': 3646, 'thorough': 3647, 'thoroughly': 3648, 'though': 3649, 'thought': 3650, 'thousand': 3651, 'three': 3652, 'threshold': 3653, 'threw': 3654, 'thrive': 3655, 'throttling': 3656, 'throughout': 3657, 'throughput': 3658, 'throw': 3659, 'throwing': 3660, 'thrown': 3661, 'thumb': 3662, 'thumbnail': 3663, 'thunderbolt': 3664, 'thus': 3665, 'ti': 3666, 'ticket': 3667, 'ticking': 3668, 'tidy': 3669, 'tier': 3670, 'tiger': 3671, 'tight': 3672, 'tightly': 3673, 'tile': 3674, 'till': 3675, 'tilt': 3676, 'time': 3677, 'timely': 3678, 'timer': 3679, 'times': 3680, 'timing': 3681, 'tiny': 3682, 'tip': 3683, 'tired': 3684, 'title': 3685, 'toast': 3686, 'today': 3687, 'together': 3688, 'toilet': 3689, 'told': 3690, 'tolerable': 3691, 'tomorrow': 3692, 'ton': 3693, 'tone': 3694, 'tonight': 3695, 'tony': 3696, 'took': 3697, 'tool': 3698, 'tooth': 3699, 'top': 3700, 'topic': 3701, 'topo': 3702, 'topographic': 3703, 'tops': 3704, 'torch': 3705, 'tore': 3706, 'total': 3707, 'totally': 3708, 'tote': 3709, 'touch': 3710, 'touched': 3711, 'touching': 3712, 'touchy': 3713, 'tough': 3714, 'tour': 3715, 'toward': 3716, 'towards': 3717, 'town': 3718, 'toy': 3719, 'trace': 3720, 'track': 3721, 'tracked': 3722, 'tracker': 3723, 'trade': 3724, 'trading': 3725, 'traditional': 3726, 'traffic': 3727, 'trail': 3728, 'train': 3729, 'transcend': 3730, 'transfer': 3731, 'transferred': 3732, 'transferring': 3733, 'transformer': 3734, 'transit': 3735, 'transition': 3736, 'translate': 3737, 'translator': 3738, 'transmit': 3739, 'transport': 3740, 'transported': 3741, 'transporting': 3742, 'transversely': 3743, 'trap': 3744, 'trash': 3745, 'travel': 3746, 'traveling': 3747, 'treat': 3748, 'tremendous': 3749, 'trend': 3750, 'trick': 3751, 'tried': 3752, 'trigger': 3753, 'trilogy': 3754, 'trip': 3755, 'triple': 3756, 'triumph': 3757, 'trolling': 3758, 'trouble': 3759, 'troublesome': 3760, 'truck': 3761, 'trucks': 3762, 'true': 3763, 'truly': 3764, 'trust': 3765, 'trusting': 3766, 'trustworthy': 3767, 'trusty': 3768, 'truth': 3769, 'truthfully': 3770, 'try': 3771, 'trying': 3772, 'tune': 3773, 'tuned': 3774, 'turn': 3775, 'turned': 3776, 'turning': 3777, 'turns': 3778, 'twelve': 3779, 'twice': 3780, 'twist': 3781, 'two': 3782, 'type': 3783, 'typer': 3784, 'typical': 3785, 'typically': 3786, 'u': 3787, 'ugh': 3788, 'ugly': 3789, 'ultimate': 3790, 'ultimately': 3791, 'ultra': 3792, 'um': 3793, 'umpteen': 3794, 'un': 3795, 'unable': 3796, 'unacceptable': 3797, 'unaware': 3798, 'unbeatable': 3799, 'unbelievable': 3800, 'unbelievably': 3801, 'unbranded': 3802, 'unchanged': 3803, 'unclassed': 3804, 'uncle': 3805, 'unclear': 3806, 'uncommon': 3807, 'unconscionable': 3808, 'uncontrollably': 3809, 'undamaged': 3810, 'understand': 3811, 'understandable': 3812, 'underwater': 3813, 'undo': 3814, 'undue': 3815, 'unexpected': 3816, 'unexpectedly': 3817, 'unfamiliar': 3818, 'unfold': 3819, 'unfortunately': 3820, 'unfriendly': 3821, 'unfunctional': 3822, 'ungodly': 3823, 'unhappy': 3824, 'unhelpful': 3825, 'unimpressed': 3826, 'uninterrupted': 3827, 'unique': 3828, 'unit': 3829, 'universal': 3830, 'unknowingly': 3831, 'unknown': 3832, 'unless': 3833, 'unlike': 3834, 'unlimited': 3835, 'unload': 3836, 'unlock': 3837, 'unlocked': 3838, 'unlucky': 3839, 'unmatched': 3840, 'unmodified': 3841, 'unmount': 3842, 'unmounted': 3843, 'unmounting': 3844, 'unneeded': 3845, 'unofficial': 3846, 'unopened': 3847, 'unpacked': 3848, 'unpainted': 3849, 'unpatched': 3850, 'unplugged': 3851, 'unreadable': 3852, 'unreal': 3853, 'unrealistic': 3854, 'unrecognizable': 3855, 'unrecognized': 3856, 'unrecoverable': 3857, 'unrelated': 3858, 'unreliable': 3859, 'unresponsive': 3860, 'unrooted': 3861, 'unsafe': 3862, 'unsatisfied': 3863, 'unscientific': 3864, 'unscientifically': 3865, 'unspoken': 3866, 'unstable': 3867, 'unstoppable': 3868, 'unsupported': 3869, 'unsure': 3870, 'unsurpassed': 3871, 'unto': 3872, 'untouchable': 3873, 'unusable': 3874, 'unwatchable': 3875, 'unwrapped': 3876, 'update': 3877, 'upgrade': 3878, 'upon': 3879, 'upper': 3880, 'upping': 3881, 'upset': 3882, 'upwards': 3883, 'ur': 3884, 'us': 3885, 'usability': 3886, 'usable': 3887, 'usage': 3888, 'use': 3889, 'used': 3890, 'useful': 3891, 'useless': 3892, 'user': 3893, 'ush': 3894, 'usual': 3895, 'usually': 3896, 'utility': 3897, 'utilize': 3898, 'v': 3899, 'vacation': 3900, 'validate': 3901, 'validity': 3902, 'valuable': 3903, 'value': 3904, 'vanish': 3905, 'variance': 3906, 'variant': 3907, 'varied': 3908, 'variety': 3909, 'various': 3910, 'vary': 3911, 'vast': 3912, 'vehicle': 3913, 'vender': 3914, 'vendor': 3915, 'venture': 3916, 'venue': 3917, 'verdict': 3918, 'verge': 3919, 'verify': 3920, 'versatile': 3921, 'versatility': 3922, 'verse': 3923, 'version': 3924, 'via': 3925, 'viable': 3926, 'vibrant': 3927, 'vibration': 3928, 'vice': 3929, 'vicinity': 3930, 'video': 3931, 'view': 3932, 'viewable': 3933, 'viewer': 3934, 'virgin': 3935, 'virtual': 3936, 'virtually': 3937, 'virus': 3938, 'visible': 3939, 'vision': 3940, 'vista': 3941, 'visual': 3942, 'visually': 3943, 'vital': 3944, 'vivid': 3945, 'voice': 3946, 'void': 3947, 'voltage': 3948, 'volume': 3949, 'vote': 3950, 'vouch': 3951, 'voyage': 3952, 'w': 3953, 'wait': 3954, 'waiting': 3955, 'waking': 3956, 'walk': 3957, 'wall': 3958, 'wallet': 3959, 'wan': 3960, 'wand': 3961, 'want': 3962, 'wanting': 3963, 'warehouse': 3964, 'warm': 3965, 'warn': 3966, 'warning': 3967, 'warped': 3968, 'warrant': 3969, 'warrantee': 3970, 'warranty': 3971, 'wary': 3972, 'wasabi': 3973, 'wash': 3974, 'washed': 3975, 'washer': 3976, 'washing': 3977, 'wasnt': 3978, 'waste': 3979, 'wasted': 3980, 'wasteful': 3981, 'wasting': 3982, 'wat': 3983, 'watch': 3984, 'watchdog': 3985, 'watched': 3986, 'watcher': 3987, 'watching': 3988, 'water': 3989, 'waterproof': 3990, 'wave': 3991, 'wavey': 3992, 'way': 3993, 'ways': 3994, 'weak': 3995, 'wearing': 3996, 'weary': 3997, 'weather': 3998, 'web': 3999, 'wedding': 4000, 'week': 4001, 'weekend': 4002, 'weighed': 4003, 'weighing': 4004, 'weight': 4005, 'weird': 4006, 'welcome': 4007, 'well': 4008, 'went': 4009, 'werent': 4010, 'wet': 4011, 'whatever': 4012, 'whatnot': 4013, 'whats': 4014, 'whatsoever': 4015, 'whenever': 4016, 'whereas': 4017, 'wherever': 4018, 'whet': 4019, 'whether': 4020, 'whilst': 4021, 'whim': 4022, 'whirl': 4023, 'whit': 4024, 'white': 4025, 'whoever': 4026, 'whole': 4027, 'whopping': 4028, 'whose': 4029, 'wi': 4030, 'wide': 4031, 'widespread': 4032, 'wife': 4033, 'wiggle': 4034, 'wild': 4035, 'wildly': 4036, 'willing': 4037, 'willingly': 4038, 'win': 4039, 'wince': 4040, 'wind': 4041, 'window': 4042, 'windshield': 4043, 'winner': 4044, 'winter': 4045, 'wipe': 4046, 'wire': 4047, 'wired': 4048, 'wireless': 4049, 'wirelessly': 4050, 'wise': 4051, 'wish': 4052, 'wished': 4053, 'wishing': 4054, 'wit': 4055, 'within': 4056, 'without': 4057, 'wiz': 4058, 'wizard': 4059, 'woke': 4060, 'wolf': 4061, 'woman': 4062, 'wonder': 4063, 'wonderful': 4064, 'wonderfully': 4065, 'wondering': 4066, 'wonky': 4067, 'wont': 4068, 'woo': 4069, 'wood': 4070, 'woohoo': 4071, 'word': 4072, 'wore': 4073, 'work': 4074, 'workable': 4075, 'worked': 4076, 'worker': 4077, 'working': 4078, 'workmanship': 4079, 'workout': 4080, 'works': 4081, 'world': 4082, 'worn': 4083, 'worried': 4084, 'worry': 4085, 'worrying': 4086, 'worse': 4087, 'worst': 4088, 'worth': 4089, 'worthful': 4090, 'worthless': 4091, 'worthy': 4092, 'would': 4093, 'wouldnt': 4094, 'wound': 4095, 'wow': 4096, 'wrap': 4097, 'wrapped': 4098, 'wrapper': 4099, 'wrestle': 4100, 'wright': 4101, 'writable': 4102, 'write': 4103, 'writer': 4104, 'writing': 4105, 'written': 4106, 'wrong': 4107, 'wrote': 4108, 'x': 4109, 'xi': 4110, 'ya': 4111, 'yah': 4112, 'yap': 4113, 'yarn': 4114, 'yeah': 4115, 'year': 4116, 'yee': 4117, 'yellow': 4118, 'yep': 4119, 'yes': 4120, 'yesterday': 4121, 'yet': 4122, 'yield': 4123, 'yoga': 4124, 'young': 4125, 'yr': 4126, 'z': 4127, 'zar': 4128, 'zero': 4129, 'zip': 4130, 'zippy': 4131, 'zone': 4132, 'zoning': 4133, 'zoom': 4134}\n"
     ]
    }
   ],
   "source": [
    "\n",
    "\n",
    "# Call the compute_co_occurrence_matrix function\n",
    "M, word2index = compute_co_occurrence_matrix(corpus_words, corpus, window_size=4)\n",
    "\n",
    "# Print the co-occurrence matrix and word2index dictionary (for demonstration purposes)\n",
    "print(\"Co-occurrence Matrix:\")\n",
    "print(M)\n",
    "print(\"\\nWord to Index Dictionary:\")\n",
    "print(word2index)\n"
   ]
  },
  {
   "cell_type": "code",
   "execution_count": 10,
   "id": "d9596e5c",
   "metadata": {
    "colab": {
     "base_uri": "https://localhost:8080/"
    },
    "id": "d9596e5c",
    "outputId": "f51727dc-da12-404a-f99b-6eea76b1cac9"
   },
   "outputs": [
    {
     "name": "stdout",
     "output_type": "stream",
     "text": [
      "The co-occurrence matrix M is not empty.\n"
     ]
    }
   ],
   "source": [
    "# Assuming M is your co-occurrence matrix\n",
    "if np.all(M == 0):\n",
    "    print(\"The co-occurrence matrix M is empty (contains all zeros).\")\n",
    "else:\n",
    "    print(\"The co-occurrence matrix M is not empty.\")\n"
   ]
  },
  {
   "cell_type": "code",
   "execution_count": 11,
   "id": "398952fd",
   "metadata": {
    "colab": {
     "base_uri": "https://localhost:8080/"
    },
    "id": "398952fd",
    "outputId": "2ac9dff7-6368-4f35-ddb0-768d23036639"
   },
   "outputs": [
    {
     "name": "stdout",
     "output_type": "stream",
     "text": [
      "[  502  1307  6304   261  1689  1260   100   833  4490  1598  1097    20\n",
      "  2526  2429   194   309   115    43  1307  3460 19782  1766  2058  2729\n",
      "    37  1996  6528  5757  5640   311 15540  5460  1187   951   658   112\n",
      "  6304 19782 36014  8029 10075  8366   149  4171 22096 25062 17838   606\n",
      " 39221  9901  9295  7589  2710   681   261  1766  8029  1136   803   567\n",
      "    10   637  3355  3131  1087    30  6049  1993   230   474   157    58\n",
      "  1689  2058 10075   803  2100  4533    20  1596  4392  7291  1898    83\n",
      "  7738  3276   778  1035  1188   202  1260  2729  8366   567  4533  1798\n",
      "     9   754  2382  5552  3958    45  3813  3423   409  1562   173    31\n",
      "   100    37   149    10    20     9    30    49    75    27     1    67\n",
      "    50     5    14     4     1   833  1996  4171   637  1596   754    30\n",
      "   136  2006  2035  1071   279  4479   924   144  3783    54     7  4490\n",
      "  6528 22096  3355  4392  2382    49  2006 11194  5467  4280   390  8282\n",
      "  6132  1502  4432  1785   151  1598  5757 25062  3131  7291  5552    75\n",
      "  2035  5467  5660  5244   132 10311  4413  1821  2824   935   227  1097\n",
      "  5640 17838  1087  1898  3958    27  1071  4280  5244  3092    31  9229\n",
      "  3899   499   517   664    55    20   311   606    30    83    45     1\n",
      "   279   390   132    31   182   789    28    13     5     6  2526 15540\n",
      " 39221  6049  7738  3813    67  4479  8282 10311  9229   182  9428  6883\n",
      "  3122  6645   788   193  2429  5460  9901  1993  3276  3423    50   924\n",
      "  6132  4413  3899   789  6883  1112   508  1270   170    45   194  1187\n",
      "  9295   230   778   409     5   144  1502  1821   499    28  3122   508\n",
      "    76   447    47    14   309   951  7589   474  1035  1562    14  3783\n",
      "  4432  2824   517    13  6645  1270   447   286   125    32   115   658\n",
      "  2710   157  1188   173     4    54  1785   935   664     5   788   170\n",
      "    47   125    22    11    43   112   681    58   202    31     1     7\n",
      "   151   227    55     6   193    45    14    32    11     2]\n"
     ]
    }
   ],
   "source": [
    "import numpy as np\n",
    "\n",
    "# Assuming M is your co-occurrence matrix\n",
    "non_zero_values = M[M != 0]\n",
    "\n",
    "# Now, non_zero_values contains all values from M that are not equal to 0\n",
    "print(non_zero_values)\n"
   ]
  },
  {
   "cell_type": "code",
   "execution_count": 12,
   "id": "rvWHxsxSJv9L",
   "metadata": {
    "id": "rvWHxsxSJv9L"
   },
   "outputs": [],
   "source": [
    "from sklearn.decomposition import TruncatedSVD\n",
    "\n",
    "def reduce_to_k_dim(M):\n",
    "    # Initialize TruncatedSVD with the desired number of components (k)\n",
    "    svd = TruncatedSVD(n_iter=10, random_state=42)\n",
    "\n",
    "    # Fit and transform the co-occurrence matrix M\n",
    "    M_reduced = svd.fit_transform(M)\n",
    "\n",
    "    return M_reduced\n"
   ]
  },
  {
   "cell_type": "code",
   "execution_count": 13,
   "id": "x5YsnJ4rJwyM",
   "metadata": {
    "id": "x5YsnJ4rJwyM"
   },
   "outputs": [],
   "source": [
    "M_reduced = reduce_to_k_dim(M)"
   ]
  },
  {
   "cell_type": "code",
   "execution_count": 14,
   "id": "Gil_h-0iMDq6",
   "metadata": {
    "colab": {
     "base_uri": "https://localhost:8080/"
    },
    "id": "Gil_h-0iMDq6",
    "outputId": "099e4ece-e836-49f9-8a1c-340ba4348800"
   },
   "outputs": [
    {
     "name": "stdout",
     "output_type": "stream",
     "text": [
      "[ 8.49206127e+03 -1.14940032e+03  2.75253658e+04  3.52139801e+02\n",
      "  7.04152397e+04  1.54277751e+04  1.12074148e+04  1.36540383e+02\n",
      "  1.61813345e+04  1.51394862e+03  1.28398036e+04 -8.02005787e+02\n",
      "  2.03087800e+02 -1.94685389e+01  7.61988558e+03  9.95762651e+02\n",
      "  2.88749998e+04 -5.06440305e+03  3.03580181e+04 -6.87301670e+03\n",
      "  2.23839703e+04 -3.24763406e+03  8.80954948e+02 -2.01231035e+02\n",
      "  4.61429821e+04 -1.45518999e+04  1.64672724e+04  8.06576096e+02\n",
      "  9.21325484e+03 -3.31882232e+03  1.12491163e+04  8.23428063e+02\n",
      "  3.47816526e+03 -6.22634934e+02  7.38497382e+02 -2.33697179e+02]\n"
     ]
    }
   ],
   "source": [
    "import numpy as np\n",
    "\n",
    "# Assuming M is your co-occurrence matrix\n",
    "non_zero_values = M_reduced[M_reduced != 0]\n",
    "\n",
    "# Now, non_zero_values contains all values from M that are not equal to 0\n",
    "print(non_zero_values)"
   ]
  },
  {
   "cell_type": "code",
   "execution_count": 15,
   "id": "LGsJ3ZN2KoBg",
   "metadata": {
    "colab": {
     "base_uri": "https://localhost:8080/",
     "height": 564
    },
    "id": "LGsJ3ZN2KoBg",
    "outputId": "0b4f8273-0cbc-4325-c28c-645a6af3ffe0"
   },
   "outputs": [
    {
     "data": {
      "image/png": "[encoded data removed]",
      "text/plain": [
       "<Figure size 1000x600 with 1 Axes>"
      ]
     },
     "metadata": {},
     "output_type": "display_data"
    }
   ],
   "source": [
    "import matplotlib.pyplot as plt\n",
    "\n",
    "def plot_embeddings(M_reduced, word2index, words_to_plot):\n",
    "    # Get indices of words to plot\n",
    "    word_indices = [word2index[word] for word in words_to_plot if word in word2index]\n",
    "\n",
    "    # Extract the reduced embeddings for the specified words\n",
    "    word_embeddings = M_reduced[word_indices]\n",
    "\n",
    "    # Create a scatterplot\n",
    "    plt.figure(figsize=(10, 6))\n",
    "    plt.scatter(word_embeddings[:, 0], word_embeddings[:, 1], marker='o', color='b', alpha=1.0)\n",
    "\n",
    "    # Annotate the points with the word labels\n",
    "    for i, word in enumerate(words_to_plot):\n",
    "        plt.annotate(word, (word_embeddings[i, 0], word_embeddings[i, 1]))\n",
    "\n",
    "    # Set plot labels\n",
    "    plt.xlabel('Dimension 1')\n",
    "    plt.ylabel('Dimension 2')\n",
    "    plt.title('Word Embeddings Scatterplot')\n",
    "\n",
    "    # Show the plot\n",
    "    plt.show()\n",
    "\n",
    "# Example usage with the specified words\n",
    "words_to_plot = ['purchase', 'buy', 'work', 'got', 'ordered', 'received', 'product', 'item', 'deal', 'use']\n",
    "plot_embeddings(M_reduced, word2index, words_to_plot)\n"
   ]
  },
  {
   "cell_type": "code",
   "execution_count": 16,
   "id": "VF57F2vNKoel",
   "metadata": {
    "colab": {
     "base_uri": "https://localhost:8080/"
    },
    "id": "VF57F2vNKoel",
    "outputId": "4e506c81-0cf4-462c-ff32-01a4a50bc02c"
   },
   "outputs": [
    {
     "name": "stdout",
     "output_type": "stream",
     "text": [
      "Loaded vocab size 400000\n"
     ]
    }
   ],
   "source": [
    "def load_embedding_model():\n",
    "    \"\"\" Load GloVe Vectors\n",
    "    Return:\n",
    "    wv_from_bin: All 400000 embeddings, each lengh 200\n",
    "    \"\"\"\n",
    "    import gensim.downloader as api\n",
    "    wv_from_bin = api.load(\"glove-wiki-gigaword-200\")\n",
    "    print(\"Loaded vocab size %i\" % len(list(wv_from_bin.index_to_key)))\n",
    "    return wv_from_bin\n",
    "    # -----------------------------------\n",
    "    # Run Cell to Load Word Vectors\n",
    "    # Note: This will take a couple minutes\n",
    "    # -----------------------------------\n",
    "wv_from_bin = load_embedding_model()"
   ]
  },
  {
   "cell_type": "code",
   "execution_count": 17,
   "id": "XbXwvd-eKohi",
   "metadata": {
    "id": "XbXwvd-eKohi"
   },
   "outputs": [],
   "source": [
    "def get_matrix_of_vectors(wv_from_bin, corpus_words):\n",
    "    \"\"\" Put the GloVe vectors into a matrix M.\n",
    "    Param:\n",
    "    wv_from_bin: KeyedVectors object; the 400000 GloVe vectors loaded from file\n",
    "    Return:\n",
    "    M: numpy matrix shape (num words, 200) containing the vectors\n",
    "    word2ind: dictionary mapping each word to its row number in M\n",
    "    \"\"\"\n",
    "    import random\n",
    "    words = list(wv_from_bin.index_to_key)\n",
    "    print(\"Shuffling words ...\")\n",
    "    random.seed(225)\n",
    "    random.shuffle(words)\n",
    "    words = words[:10000]\n",
    "    print(\"Putting %i words into word2ind and matrix M...\" % len(words))\n",
    "    word2ind = {}\n",
    "    M = []\n",
    "    curInd = 0\n",
    "    for w in words:\n",
    "        try:\n",
    "            M.append(wv_from_bin.get_vector(w))\n",
    "            word2ind[w] = curInd\n",
    "            curInd += 1\n",
    "        except KeyError:\n",
    "            continue\n",
    "    for w in corpus_words:\n",
    "        if w in words:\n",
    "            continue\n",
    "        try:\n",
    "            M.append(wv_from_bin.get_vector(w))\n",
    "            word2ind[w] = curInd\n",
    "            curInd += 1\n",
    "        except KeyError:\n",
    "            continue\n",
    "    M = np.stack(M)\n",
    "    print(\"Done.\")\n",
    "    return M, word2ind\n"
   ]
  },
  {
   "cell_type": "code",
   "execution_count": 18,
   "id": "TjIQkdFTKokM",
   "metadata": {
    "colab": {
     "base_uri": "https://localhost:8080/"
    },
    "id": "TjIQkdFTKokM",
    "outputId": "4fda2a21-8bbc-4057-bef0-4dbc9579b909"
   },
   "outputs": [
    {
     "name": "stdout",
     "output_type": "stream",
     "text": [
      "Shuffling words ...\n",
      "Putting 10000 words into word2ind and matrix M...\n",
      "Done.\n"
     ]
    }
   ],
   "source": [
    "M2, word2ind = get_matrix_of_vectors(wv_from_bin, corpus_words)"
   ]
  },
  {
   "cell_type": "code",
   "execution_count": 19,
   "id": "Paz8x7lvr0kD",
   "metadata": {
    "id": "Paz8x7lvr0kD"
   },
   "outputs": [],
   "source": [
    "M2_reduced = reduce_to_k_dim(M2)"
   ]
  },
  {
   "cell_type": "code",
   "execution_count": 20,
   "id": "UlNfRO5Gr0tA",
   "metadata": {
    "colab": {
     "base_uri": "https://localhost:8080/",
     "height": 564
    },
    "id": "UlNfRO5Gr0tA",
    "outputId": "3500a52c-3df8-4e1b-e0ac-874d63117a9c"
   },
   "outputs": [
    {
     "data": {
      "image/png": "[encoded data removed]",
      "text/plain": [
       "<Figure size 1000x600 with 1 Axes>"
      ]
     },
     "metadata": {},
     "output_type": "display_data"
    }
   ],
   "source": [
    "words_to_plot = ['purchase', 'buy', 'work', 'got', 'ordered', 'received', 'product', 'item', 'deal', 'use']\n",
    "plot_embeddings(M2_reduced, word2ind, words_to_plot)"
   ]
  },
  {
   "cell_type": "code",
   "execution_count": 21,
   "id": "WYRmPTt4y7Sw",
   "metadata": {
    "id": "WYRmPTt4y7Sw"
   },
   "outputs": [],
   "source": [
    "from sklearn.decomposition import TruncatedSVD\n",
    "\n",
    "def reduce_to_k_dim(M):\n",
    "    # Initialize TruncatedSVD with the desired number of components (k)\n",
    "    svd = TruncatedSVD(n_components = 128, n_iter=10, random_state=42)\n",
    "\n",
    "    # Fit and transform the co-occurrence matrix M\n",
    "    M_reduced = svd.fit_transform(M)\n",
    "\n",
    "    return M_reduced"
   ]
  },
  {
   "cell_type": "code",
   "execution_count": 22,
   "id": "9R3184L4r0vw",
   "metadata": {
    "id": "9R3184L4r0vw"
   },
   "outputs": [],
   "source": [
    "M3_reduced = reduce_to_k_dim(M2)"
   ]
  },
  {
   "cell_type": "code",
   "execution_count": 23,
   "id": "iWf8spoYr0zP",
   "metadata": {
    "id": "iWf8spoYr0zP"
   },
   "outputs": [],
   "source": [
    "def calculate_review_embedding(tokens, word_embeddings, word2ind):\n",
    "\n",
    "\n",
    "    # Initialize an array to store the word embeddings for the tokens in the review\n",
    "    review_word_embeddings = []\n",
    "\n",
    "    # Iterate through the tokens in the review\n",
    "    for token in tokens:\n",
    "        # Check if the token is in the word2ind dictionary\n",
    "        if token in word2ind:\n",
    "            # Get the index of the token in the word2ind dictionary\n",
    "            index = word2ind[token]\n",
    "            # Get the corresponding word embedding from word_embeddings\n",
    "            word_embedding = word_embeddings[index]\n",
    "            # Append the word embedding to the review_word_embeddings array\n",
    "            review_word_embeddings.append(word_embedding)\n",
    "\n",
    "    # Calculate the average of the word embeddings for the review\n",
    "    if len(review_word_embeddings) > 0:\n",
    "        review_embedding = np.mean(review_word_embeddings, axis=0)\n",
    "    else:\n",
    "        review_embedding = np.zeros(word_embeddings.shape[1])  # Use zeros if no valid embeddings found\n",
    "\n",
    "    return review_embedding\n"
   ]
  },
  {
   "cell_type": "code",
   "execution_count": 24,
   "id": "Bu721rdA1Hyv",
   "metadata": {
    "id": "Bu721rdA1Hyv"
   },
   "outputs": [],
   "source": [
    "# Initialize an array to store the review embeddings\n",
    "review_embeddings = []\n",
    "\n",
    "# Iterate through the reviews in your dataset\n",
    "for review in corpus:  # Replace with the actual variable name for your reviews\n",
    "    # Calculate the review embedding for the current review\n",
    "    review_embedding = calculate_review_embedding(review, M3_reduced, word2ind)\n",
    "    # Append the review embedding to the review_embeddings array\n",
    "    review_embeddings.append(review_embedding)\n",
    "\n",
    "# Convert the review_embeddings array to a numpy array\n",
    "review_embeddings = np.array(review_embeddings)\n"
   ]
  },
  {
   "cell_type": "code",
   "execution_count": 25,
   "id": "5xJCdltp160c",
   "metadata": {
    "colab": {
     "base_uri": "https://localhost:8080/"
    },
    "id": "5xJCdltp160c",
    "outputId": "113250cd-cc19-4653-944e-2438c58525fc"
   },
   "outputs": [
    {
     "data": {
      "text/plain": [
       "(4915, 128)"
      ]
     },
     "execution_count": 25,
     "metadata": {},
     "output_type": "execute_result"
    }
   ],
   "source": [
    "review_embeddings.shape\n"
   ]
  },
  {
   "cell_type": "code",
   "execution_count": 26,
   "id": "n7kJBDdu6FqP",
   "metadata": {
    "id": "n7kJBDdu6FqP"
   },
   "outputs": [],
   "source": [
    "new_df = pd.concat([df, pd.DataFrame(review_embeddings)], axis=1)"
   ]
  },
  {
   "cell_type": "code",
   "execution_count": 27,
   "id": "lDQbl1Oz7FgU",
   "metadata": {
    "colab": {
     "base_uri": "https://localhost:8080/"
    },
    "id": "lDQbl1Oz7FgU",
    "outputId": "f9eb32a1-b293-4ef0-a38e-047be4088e38"
   },
   "outputs": [
    {
     "data": {
      "text/plain": [
       "(4915, 130)"
      ]
     },
     "execution_count": 27,
     "metadata": {},
     "output_type": "execute_result"
    }
   ],
   "source": [
    "new_df.shape"
   ]
  },
  {
   "cell_type": "code",
   "execution_count": 28,
   "id": "S2g1B4xN7FjF",
   "metadata": {
    "colab": {
     "base_uri": "https://localhost:8080/"
    },
    "id": "S2g1B4xN7FjF",
    "outputId": "e2f1d2a0-9d11-460f-e192-c2e84efb0b29"
   },
   "outputs": [
    {
     "data": {
      "text/plain": [
       "(4915, 2)"
      ]
     },
     "execution_count": 28,
     "metadata": {},
     "output_type": "execute_result"
    }
   ],
   "source": [
    "df.shape"
   ]
  },
  {
   "cell_type": "code",
   "execution_count": 29,
   "id": "QcMLGLFM_0af",
   "metadata": {
    "id": "QcMLGLFM_0af"
   },
   "outputs": [],
   "source": [
    "new_df.columns = new_df.columns.astype(str)\n",
    "\n"
   ]
  },
  {
   "cell_type": "code",
   "execution_count": 30,
   "id": "_TINt7VH7Flt",
   "metadata": {
    "id": "_TINt7VH7Flt"
   },
   "outputs": [],
   "source": [
    "from sklearn.model_selection import train_test_split\n",
    "from sklearn.linear_model import LogisticRegression\n",
    "from sklearn.metrics import accuracy_score, precision_score, recall_score, f1_score, roc_auc_score\n",
    "from sklearn.neural_network import MLPClassifier\n",
    "\n",
    "features = new_df.drop(columns=['overall', 'reviewText'])\n",
    "\n",
    "# Split the data into training, validation, and test sets\n",
    "X_train, X_temp, y_train, y_temp = train_test_split(features, new_df['overall'], test_size=0.2, random_state=42, stratify=df['overall'])\n",
    "X_val, X_test, y_val, y_test = train_test_split(X_temp, y_temp, test_size=0.5, random_state=42, stratify=y_temp)\n",
    "\n",
    "\n",
    "\n",
    "\n"
   ]
  },
  {
   "cell_type": "code",
   "execution_count": 31,
   "id": "x1z_Q0DHPbcr",
   "metadata": {
    "colab": {
     "base_uri": "https://localhost:8080/"
    },
    "id": "x1z_Q0DHPbcr",
    "outputId": "b6299fac-87e3-41e0-c5c3-973e3f5f9e26"
   },
   "outputs": [
    {
     "name": "stdout",
     "output_type": "stream",
     "text": [
      "Accuracy: 0.7983706720977597\n",
      "Precision: 0.6373957300658285\n",
      "Recall: 0.7983706720977597\n",
      "F1 Score: 0.70885912448997\n",
      "ROC AUC: 0.589288453561008\n"
     ]
    },
    {
     "name": "stderr",
     "output_type": "stream",
     "text": [
      "/usr/local/lib/python3.10/dist-packages/sklearn/metrics/_classification.py:1344: UndefinedMetricWarning: Precision is ill-defined and being set to 0.0 in labels with no predicted samples. Use `zero_division` parameter to control this behavior.\n",
      "  _warn_prf(average, modifier, msg_start, len(result))\n"
     ]
    }
   ],
   "source": [
    "# Create and train the logistic regression model\n",
    "logistic_model = LogisticRegression(penalty='l2', random_state=42, max_iter=1000)\n",
    "logistic_model.fit(X_train, y_train)\n",
    "\n",
    "# Predict on the validation set\n",
    "y_val_pred = logistic_model.predict(X_val)\n",
    "\n",
    "# Evaluate the model on the validation set\n",
    "accuracy = accuracy_score(y_val, y_val_pred)\n",
    "precision = precision_score(y_val, y_val_pred, average='weighted')\n",
    "recall = recall_score(y_val, y_val_pred, average='weighted')\n",
    "f1 = f1_score(y_val, y_val_pred, average='weighted')\n",
    "roc_auc = roc_auc_score(y_val, logistic_model.predict_proba(X_val), multi_class='ovr')\n",
    "\n",
    "# Print evaluation metrics\n",
    "print(\"Accuracy:\", accuracy)\n",
    "print(\"Precision:\", precision)\n",
    "print(\"Recall:\", recall)\n",
    "print(\"F1 Score:\", f1)\n",
    "print(\"ROC AUC:\", roc_auc)\n"
   ]
  },
  {
   "cell_type": "code",
   "execution_count": 32,
   "id": "I45_3SGLPboS",
   "metadata": {
    "colab": {
     "base_uri": "https://localhost:8080/"
    },
    "id": "I45_3SGLPboS",
    "outputId": "692b2581-3ae7-4c52-8211-17d14fe9a98e"
   },
   "outputs": [
    {
     "name": "stdout",
     "output_type": "stream",
     "text": [
      "Neural Network Model - Validation Metrics:\n",
      "Accuracy: 0.7596741344195519\n",
      "Precision: 0.6671348765801863\n",
      "Recall: 0.7596741344195519\n",
      "F1 Score: 0.7049248408894451\n",
      "ROC AUC: 0.6703243887843356\n"
     ]
    },
    {
     "name": "stderr",
     "output_type": "stream",
     "text": [
      "/usr/local/lib/python3.10/dist-packages/sklearn/metrics/_classification.py:1344: UndefinedMetricWarning: Precision is ill-defined and being set to 0.0 in labels with no predicted samples. Use `zero_division` parameter to control this behavior.\n",
      "  _warn_prf(average, modifier, msg_start, len(result))\n"
     ]
    }
   ],
   "source": [
    "from sklearn.neural_network import MLPClassifier\n",
    "\n",
    "# Create and train the neural network model\n",
    "nn_model = MLPClassifier(hidden_layer_sizes=(128, 64), activation='relu', random_state=42, max_iter=1000)\n",
    "nn_model.fit(X_train, y_train)\n",
    "\n",
    "# Predict on the validation set\n",
    "y_val_pred = nn_model.predict(X_val)\n",
    "\n",
    "# Evaluate the model on the validation set\n",
    "accuracy = accuracy_score(y_val, y_val_pred)\n",
    "precision = precision_score(y_val, y_val_pred, average='weighted')\n",
    "recall = recall_score(y_val, y_val_pred, average='weighted')\n",
    "f1 = f1_score(y_val, y_val_pred, average='weighted')\n",
    "roc_auc = roc_auc_score(y_val, nn_model.predict_proba(X_val), multi_class='ovr')\n",
    "\n",
    "# Print evaluation metrics\n",
    "print(\"Neural Network Model - Validation Metrics:\")\n",
    "print(\"Accuracy:\", accuracy)\n",
    "print(\"Precision:\", precision)\n",
    "print(\"Recall:\", recall)\n",
    "print(\"F1 Score:\", f1)\n",
    "print(\"ROC AUC:\", roc_auc)\n"
   ]
  },
  {
   "cell_type": "markdown",
   "id": "fbyc5X89v90-",
   "metadata": {
    "id": "fbyc5X89v90-"
   },
   "source": [
    "The Neural-Network has performed well in the sense of ROC but the Logistic had better accuracy, Later when we tested our test data on Logistic it improved results in ROC as well."
   ]
  },
  {
   "cell_type": "code",
   "execution_count": 33,
   "id": "DV-lTxqLPbwI",
   "metadata": {
    "colab": {
     "base_uri": "https://localhost:8080/"
    },
    "id": "DV-lTxqLPbwI",
    "outputId": "cd519b73-9a34-4ba8-90d4-77f06f664c72"
   },
   "outputs": [
    {
     "name": "stdout",
     "output_type": "stream",
     "text": [
      "Test Metrics for Logistic Regression Model:\n",
      "Accuracy: 0.7967479674796748\n",
      "Precision: 0.6348073236829929\n",
      "Recall: 0.7967479674796748\n",
      "F1 Score: 0.7066181069050509\n",
      "ROC AUC: 0.600020413469126\n"
     ]
    },
    {
     "name": "stderr",
     "output_type": "stream",
     "text": [
      "/usr/local/lib/python3.10/dist-packages/sklearn/metrics/_classification.py:1344: UndefinedMetricWarning: Precision is ill-defined and being set to 0.0 in labels with no predicted samples. Use `zero_division` parameter to control this behavior.\n",
      "  _warn_prf(average, modifier, msg_start, len(result))\n"
     ]
    }
   ],
   "source": [
    "# Predict on the test set\n",
    "y_test_pred = logistic_model.predict(X_test)\n",
    "\n",
    "# Evaluate the model on the test set\n",
    "accuracy = accuracy_score(y_test, y_test_pred)\n",
    "precision = precision_score(y_test, y_test_pred, average='weighted')\n",
    "recall = recall_score(y_test, y_test_pred, average='weighted')\n",
    "f1 = f1_score(y_test, y_test_pred, average='weighted')\n",
    "roc_auc = roc_auc_score(y_test, logistic_model.predict_proba(X_test), multi_class='ovr')\n",
    "\n",
    "# Print evaluation metrics\n",
    "print(\"Test Metrics for Logistic Regression Model:\")\n",
    "print(\"Accuracy:\", accuracy)\n",
    "print(\"Precision:\", precision)\n",
    "print(\"Recall:\", recall)\n",
    "print(\"F1 Score:\", f1)\n",
    "print(\"ROC AUC:\", roc_auc)\n"
   ]
  },
  {
   "cell_type": "code",
   "execution_count": null,
   "id": "a3d7dacf",
   "metadata": {},
   "outputs": [],
   "source": []
  }
 ],
 "metadata": {
  "accelerator": "GPU",
  "colab": {
   "gpuType": "V100",
   "machine_shape": "hm",
   "provenance": []
  },
  "kernelspec": {
   "display_name": "Python 3 (ipykernel)",
   "language": "python",
   "name": "python3"
  },
  "language_info": {
   "codemirror_mode": {
    "name": "ipython",
    "version": 3
   },
   "file_extension": ".py",
   "mimetype": "text/x-python",
   "name": "python",
   "nbconvert_exporter": "python",
   "pygments_lexer": "ipython3",
   "version": "3.9.12"
  }
 },
 "nbformat": 4,
 "nbformat_minor": 5
}
